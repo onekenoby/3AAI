{
 "cells": [
  {
   "cell_type": "code",
   "execution_count": 1,
   "metadata": {},
   "outputs": [
    {
     "name": "stdout",
     "output_type": "stream",
     "text": [
      "WARNING:tensorflow:From c:\\Users\\stefa\\anaconda3\\envs\\py3aai\\Lib\\site-packages\\keras\\src\\losses.py:2976: The name tf.losses.sparse_softmax_cross_entropy is deprecated. Please use tf.compat.v1.losses.sparse_softmax_cross_entropy instead.\n",
      "\n"
     ]
    }
   ],
   "source": [
    "import PyPDF2\n",
    "from sklearn.pipeline import Pipeline\n",
    "from sklearn.base import BaseEstimator, TransformerMixin\n",
    "from tensorflow.keras.preprocessing.text import Tokenizer\n",
    "from tensorflow.keras.preprocessing.sequence import pad_sequences\n",
    "import tensorflow as tf\n",
    "import joblib\n"
   ]
  },
  {
   "cell_type": "code",
   "execution_count": 3,
   "metadata": {},
   "outputs": [],
   "source": [
    "\n",
    "class PdfReaderTransformer(BaseEstimator, TransformerMixin):\n",
    "    def fit(self, X, y=None):\n",
    "        return self\n",
    "    \n",
    "    def transform(self, X):\n",
    "        data = []\n",
    "        for pdf_file_path in X:\n",
    "            with open(pdf_file_path, 'rb') as file:\n",
    "                reader = PyPDF2.PdfReader(file)\n",
    "                content = ''\n",
    "                for page in reader.pages:\n",
    "                    content += page.extract_text()\n",
    "                data.append(content)\n",
    "\n",
    "        return data\n",
    "\n",
    "class TextTokenizerTransformer(BaseEstimator, TransformerMixin):\n",
    "    def __init__(self, max_words=10000):\n",
    "        self.max_words = max_words\n",
    "        self.tokenizer = Tokenizer(num_words=max_words, split=' ')\n",
    "\n",
    "    def fit(self, X, y=None):\n",
    "        self.tokenizer.fit_on_texts(X)\n",
    "        return self\n",
    "\n",
    "    def transform(self, X):\n",
    "        sequences = self.tokenizer.texts_to_sequences(X)\n",
    "        padded_sequences = pad_sequences(sequences)\n",
    "        return padded_sequences\n"
   ]
  },
  {
   "cell_type": "code",
   "execution_count": 4,
   "metadata": {},
   "outputs": [],
   "source": [
    "\n",
    "# Define the PDF file paths to compare\n",
    "pdf_files = ['file1.pdf', 'file2.pdf', 'file3.pdf']\n",
    "\n",
    "# Create the pipeline\n",
    "pipeline = Pipeline([\n",
    "    ('pdf_reader', PdfReaderTransformer()),\n",
    "    ('text_tokenizer', TextTokenizerTransformer()),\n",
    "    # Add more transformers or models as needed\n",
    "])\n"
   ]
  },
  {
   "cell_type": "code",
   "execution_count": 5,
   "metadata": {},
   "outputs": [
    {
     "data": {
      "text/plain": [
       "['file1.pdf', 'file2.pdf', 'file3.pdf']"
      ]
     },
     "execution_count": 5,
     "metadata": {},
     "output_type": "execute_result"
    }
   ],
   "source": [
    "pdf_files"
   ]
  },
  {
   "cell_type": "code",
   "execution_count": 6,
   "metadata": {},
   "outputs": [],
   "source": [
    "# Apply the pipeline on the PDF files\n",
    "transformed_data = pipeline.fit_transform(pdf_files)"
   ]
  },
  {
   "cell_type": "code",
   "execution_count": null,
   "metadata": {},
   "outputs": [],
   "source": [
    "# Provide the correct answers for reinforcement\n",
    "correct_answers = [0, 1, 2]  # Example: assuming file1 corresponds to class 0, file2 to class 1, file3 to class 2\n"
   ]
  },
  {
   "cell_type": "code",
   "execution_count": null,
   "metadata": {},
   "outputs": [],
   "source": [
    "\n",
    "\n",
    "\n",
    "# Train your model using transformed_data and correct_answers\n",
    "\n",
    "# Saving the template for future predictions\n",
    "template = pipeline.named_steps['text_tokenizer']  # Get the trained template from pipeline\n",
    "joblib.dump(template, 'template.pkl')  # Save the template to a file\n",
    "\n",
    "# Saving the model after training with reinforcement\n",
    "model = pipeline.named_steps['text_tokenizer']  # Get the trained model from pipeline\n",
    "joblib.dump(model, 'model.pkl')  # Save the model to a file\n",
    "\n",
    "# Perform comparison or analysis on new PDF files using the saved template and model\n",
    "# ...\n",
    "\n",
    "# Load the saved template and model for future predictions\n",
    "loaded_template = joblib.load('template.pkl')\n",
    "loaded_model = joblib.load('model.pkl')\n",
    "\n"
   ]
  },
  {
   "cell_type": "code",
   "execution_count": null,
   "metadata": {},
   "outputs": [],
   "source": []
  }
 ],
 "metadata": {
  "kernelspec": {
   "display_name": "py3aai",
   "language": "python",
   "name": "python3"
  },
  "language_info": {
   "codemirror_mode": {
    "name": "ipython",
    "version": 3
   },
   "file_extension": ".py",
   "mimetype": "text/x-python",
   "name": "python",
   "nbconvert_exporter": "python",
   "pygments_lexer": "ipython3",
   "version": "3.11.7"
  }
 },
 "nbformat": 4,
 "nbformat_minor": 2
}
