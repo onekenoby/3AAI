{
 "cells": [
  {
   "cell_type": "markdown",
   "metadata": {},
   "source": [
    "# MLP 1"
   ]
  },
  {
   "cell_type": "code",
   "execution_count": 1,
   "metadata": {},
   "outputs": [
    {
     "name": "stdout",
     "output_type": "stream",
     "text": [
      "WARNING:tensorflow:From c:\\Users\\esteo\\anaconda3\\lib\\site-packages\\keras\\src\\losses.py:2976: The name tf.losses.sparse_softmax_cross_entropy is deprecated. Please use tf.compat.v1.losses.sparse_softmax_cross_entropy instead.\n",
      "\n"
     ]
    }
   ],
   "source": [
    "import pandas as pd\n",
    "import matplotlib.pyplot as plt\n",
    "import numpy as np\n",
    "import tensorflow as tf\n",
    "from sklearn.model_selection import train_test_split, GridSearchCV\n",
    "from sklearn.neural_network import MLPRegressor\n",
    "from sklearn.metrics import make_scorer, mean_squared_error, r2_score\n",
    "from sklearn.impute import SimpleImputer\n",
    "from sklearn.preprocessing import StandardScaler\n",
    "from sklearn.pipeline import Pipeline\n",
    "from sklearn.base import BaseEstimator, RegressorMixin"
   ]
  },
  {
   "cell_type": "code",
   "execution_count": 2,
   "metadata": {},
   "outputs": [],
   "source": [
    "# Dati estrapolati dal db remoto di Giuliano in data 22/01/2024, solamente per le classi 0 e 1\n",
    "df1 = pd.read_csv('postgres_dati_aggiornati.csv')\n",
    "\n",
    "df2 = pd.read_csv('postgres_new_data.csv')\n",
    "\n",
    "df = pd.concat([df1, df2], ignore_index=True)"
   ]
  },
  {
   "cell_type": "code",
   "execution_count": 3,
   "metadata": {},
   "outputs": [],
   "source": [
    "dfTraining = pd.concat(\n",
    "    [\n",
    "        np.array_split(df[df.ae_cl == 0], 3)[0],\n",
    "        np.array_split(df[df.ae_cl == 0], 3)[1],\n",
    "        np.array_split(df[df.ae_cl == 1], 3)[0],\n",
    "        np.array_split(df[df.ae_cl == 1], 3)[1],        \n",
    "        np.array_split(df[df.ae_cl == 2], 3)[0],\n",
    "        np.array_split(df[df.ae_cl == 2], 3)[1]\n",
    "    ],\n",
    "    ignore_index=True\n",
    ")\n",
    "\n",
    "\n",
    "dfTest = pd.concat(\n",
    "    [\n",
    "        np.array_split(df[df.ae_cl == 0], 3)[2],\n",
    "        np.array_split(df[df.ae_cl == 1], 3)[2],\n",
    "        np.array_split(df[df.ae_cl == 2], 3)[2]\n",
    "    ],\n",
    "    ignore_index=True\n",
    ")"
   ]
  },
  {
   "cell_type": "code",
   "execution_count": 2,
   "metadata": {},
   "outputs": [],
   "source": [
    "dfTraining = pd.read_csv('postgres_new_data.csv')"
   ]
  },
  {
   "cell_type": "code",
   "execution_count": 4,
   "metadata": {},
   "outputs": [
    {
     "name": "stderr",
     "output_type": "stream",
     "text": [
      "No artists with labels found to put in legend.  Note that artists whose label start with an underscore are ignored when legend() is called with no argument.\n"
     ]
    },
    {
     "data": {
      "image/png": "[encoded data removed]",
      "text/plain": [
       "<Figure size 640x480 with 1 Axes>"
      ]
     },
     "metadata": {},
     "output_type": "display_data"
    }
   ],
   "source": [
    "plt.hist([df['ae_cl']])\n",
    "plt.legend()\n",
    "plt.show()"
   ]
  },
  {
   "cell_type": "code",
   "execution_count": 5,
   "metadata": {},
   "outputs": [],
   "source": [
    "#------------------------ Load and preprocess the data ------------------------\n",
    "\n",
    "# Generate the column names as rv1, rv2, ..., rv1500\n",
    "col_names = [f'rv{i}' for i in range(1, 1501)]\n",
    "\n",
    "# Split the rv column by comma into a list of Series\n",
    "split_series = dfTraining['rv'].str.split(',', n=1499, expand=True).apply(pd.Series)\n",
    "\n",
    "# Concatenate the original DataFrame with the split Series\n",
    "dfTraining = pd.concat([dfTraining, split_series], axis=1)\n",
    "\n",
    "# Rename the split columns\n",
    "dfTraining.rename(columns=dict(zip(split_series.columns, col_names)), inplace=True)\n",
    "\n",
    "dfTraining['mn'] = dfTraining.select_dtypes(include='number').mean(axis=1)\n",
    "dfTraining['ds'] = dfTraining.select_dtypes(include='number').std(axis=1)\n",
    "\n",
    "# Drop the original 'rv' column\n",
    "dfTraining.drop('rv', axis=1, inplace=True)"
   ]
  },
  {
   "cell_type": "code",
   "execution_count": 6,
   "metadata": {},
   "outputs": [],
   "source": [
    "X = dfTraining.loc[:, 'rv1':'ds'].astype(float).values\n",
    "y = dfTraining['ae_cl']"
   ]
  },
  {
   "cell_type": "code",
   "execution_count": 7,
   "metadata": {},
   "outputs": [],
   "source": [
    "# Preprocessing steps\n",
    "# Impute missing values (if any)\n",
    "imputer = SimpleImputer(strategy='mean')\n",
    "X_imputed = imputer.fit_transform(X)\n",
    "\n",
    "# Scale features\n",
    "scaler = StandardScaler()\n",
    "X_scaled = scaler.fit_transform(X_imputed)\n"
   ]
  },
  {
   "cell_type": "code",
   "execution_count": 8,
   "metadata": {},
   "outputs": [],
   "source": [
    "# Split the preprocessed data into training and testing sets\n",
    "X_train, X_test, y_train, y_test = train_test_split(X_scaled, y, test_size=0.2, random_state=42)"
   ]
  },
  {
   "cell_type": "code",
   "execution_count": 9,
   "metadata": {},
   "outputs": [],
   "source": [
    "#mlp = MLPRegressor()"
   ]
  },
  {
   "cell_type": "code",
   "execution_count": 10,
   "metadata": {},
   "outputs": [
    {
     "data": {
      "text/plain": [
       "\"param_grid = {\\n    'hidden_layer_sizes': [(50,), (100,), (50, 50), (100, 50, 25)],\\n    'activation': ['relu', 'tanh'],\\n    'alpha': [0.0001, 0.001, 0.01],\\n    'learning_rate': ['constant', 'invscaling', 'adaptive'],\\n    'max_iter': [100, 200, 300]\\n}\""
      ]
     },
     "execution_count": 10,
     "metadata": {},
     "output_type": "execute_result"
    }
   ],
   "source": [
    "# Define the parameter grid to search\n",
    "'''param_grid = {\n",
    "    'hidden_layer_sizes': [(50,), (100,), (50, 50), (100, 50, 25)],\n",
    "    'activation': ['relu', 'tanh'],\n",
    "    'alpha': [0.0001, 0.001, 0.01],\n",
    "    'learning_rate': ['constant', 'invscaling', 'adaptive'],\n",
    "    'max_iter': [100, 200, 300]\n",
    "}'''\n"
   ]
  },
  {
   "cell_type": "code",
   "execution_count": 11,
   "metadata": {},
   "outputs": [
    {
     "data": {
      "text/plain": [
       "\"grid_search = GridSearchCV(mlp, param_grid, cv=5, scoring='neg_mean_squared_error', n_jobs=-1)\\ngrid_search.fit(X_train, y_train)\""
      ]
     },
     "execution_count": 11,
     "metadata": {},
     "output_type": "execute_result"
    }
   ],
   "source": [
    "# Use GridSearchCV to find the best combination of hyperparameters\n",
    "'''grid_search = GridSearchCV(mlp, param_grid, cv=5, scoring='neg_mean_squared_error', n_jobs=-1)\n",
    "grid_search.fit(X_train, y_train)'''"
   ]
  },
  {
   "cell_type": "code",
   "execution_count": 12,
   "metadata": {},
   "outputs": [],
   "source": [
    "# Get the best parameters\n",
    "#best_params = grid_search.best_params_"
   ]
  },
  {
   "cell_type": "code",
   "execution_count": 9,
   "metadata": {},
   "outputs": [],
   "source": [
    "#result of gridSearch\n",
    "params = {'activation': 'tanh',\n",
    " 'alpha': 0.01,\n",
    " 'hidden_layer_sizes': (100, 50, 25),\n",
    " 'learning_rate': 'invscaling',\n",
    " 'max_iter': 100}"
   ]
  },
  {
   "cell_type": "code",
   "execution_count": 10,
   "metadata": {},
   "outputs": [
    {
     "data": {
      "text/html": [
       "<style>#sk-container-id-1 {color: black;background-color: white;}#sk-container-id-1 pre{padding: 0;}#sk-container-id-1 div.sk-toggleable {background-color: white;}#sk-container-id-1 label.sk-toggleable__label {cursor: pointer;display: block;width: 100%;margin-bottom: 0;padding: 0.3em;box-sizing: border-box;text-align: center;}#sk-container-id-1 label.sk-toggleable__label-arrow:before {content: \"▸\";float: left;margin-right: 0.25em;color: #696969;}#sk-container-id-1 label.sk-toggleable__label-arrow:hover:before {color: black;}#sk-container-id-1 div.sk-estimator:hover label.sk-toggleable__label-arrow:before {color: black;}#sk-container-id-1 div.sk-toggleable__content {max-height: 0;max-width: 0;overflow: hidden;text-align: left;background-color: #f0f8ff;}#sk-container-id-1 div.sk-toggleable__content pre {margin: 0.2em;color: black;border-radius: 0.25em;background-color: #f0f8ff;}#sk-container-id-1 input.sk-toggleable__control:checked~div.sk-toggleable__content {max-height: 200px;max-width: 100%;overflow: auto;}#sk-container-id-1 input.sk-toggleable__control:checked~label.sk-toggleable__label-arrow:before {content: \"▾\";}#sk-container-id-1 div.sk-estimator input.sk-toggleable__control:checked~label.sk-toggleable__label {background-color: #d4ebff;}#sk-container-id-1 div.sk-label input.sk-toggleable__control:checked~label.sk-toggleable__label {background-color: #d4ebff;}#sk-container-id-1 input.sk-hidden--visually {border: 0;clip: rect(1px 1px 1px 1px);clip: rect(1px, 1px, 1px, 1px);height: 1px;margin: -1px;overflow: hidden;padding: 0;position: absolute;width: 1px;}#sk-container-id-1 div.sk-estimator {font-family: monospace;background-color: #f0f8ff;border: 1px dotted black;border-radius: 0.25em;box-sizing: border-box;margin-bottom: 0.5em;}#sk-container-id-1 div.sk-estimator:hover {background-color: #d4ebff;}#sk-container-id-1 div.sk-parallel-item::after {content: \"\";width: 100%;border-bottom: 1px solid gray;flex-grow: 1;}#sk-container-id-1 div.sk-label:hover label.sk-toggleable__label {background-color: #d4ebff;}#sk-container-id-1 div.sk-serial::before {content: \"\";position: absolute;border-left: 1px solid gray;box-sizing: border-box;top: 0;bottom: 0;left: 50%;z-index: 0;}#sk-container-id-1 div.sk-serial {display: flex;flex-direction: column;align-items: center;background-color: white;padding-right: 0.2em;padding-left: 0.2em;position: relative;}#sk-container-id-1 div.sk-item {position: relative;z-index: 1;}#sk-container-id-1 div.sk-parallel {display: flex;align-items: stretch;justify-content: center;background-color: white;position: relative;}#sk-container-id-1 div.sk-item::before, #sk-container-id-1 div.sk-parallel-item::before {content: \"\";position: absolute;border-left: 1px solid gray;box-sizing: border-box;top: 0;bottom: 0;left: 50%;z-index: -1;}#sk-container-id-1 div.sk-parallel-item {display: flex;flex-direction: column;z-index: 1;position: relative;background-color: white;}#sk-container-id-1 div.sk-parallel-item:first-child::after {align-self: flex-end;width: 50%;}#sk-container-id-1 div.sk-parallel-item:last-child::after {align-self: flex-start;width: 50%;}#sk-container-id-1 div.sk-parallel-item:only-child::after {width: 0;}#sk-container-id-1 div.sk-dashed-wrapped {border: 1px dashed gray;margin: 0 0.4em 0.5em 0.4em;box-sizing: border-box;padding-bottom: 0.4em;background-color: white;}#sk-container-id-1 div.sk-label label {font-family: monospace;font-weight: bold;display: inline-block;line-height: 1.2em;}#sk-container-id-1 div.sk-label-container {text-align: center;}#sk-container-id-1 div.sk-container {/* jupyter's `normalize.less` sets `[hidden] { display: none; }` but bootstrap.min.css set `[hidden] { display: none !important; }` so we also need the `!important` here to be able to override the default hidden behavior on the sphinx rendered scikit-learn.org. See: https://github.com/scikit-learn/scikit-learn/issues/21755 */display: inline-block !important;position: relative;}#sk-container-id-1 div.sk-text-repr-fallback {display: none;}</style><div id=\"sk-container-id-1\" class=\"sk-top-container\"><div class=\"sk-text-repr-fallback\"><pre>MLPRegressor(activation=&#x27;tanh&#x27;, alpha=0.01, hidden_layer_sizes=(100, 50, 25),\n",
       "             learning_rate=&#x27;invscaling&#x27;, max_iter=100)</pre><b>In a Jupyter environment, please rerun this cell to show the HTML representation or trust the notebook. <br />On GitHub, the HTML representation is unable to render, please try loading this page with nbviewer.org.</b></div><div class=\"sk-container\" hidden><div class=\"sk-item\"><div class=\"sk-estimator sk-toggleable\"><input class=\"sk-toggleable__control sk-hidden--visually\" id=\"sk-estimator-id-1\" type=\"checkbox\" checked><label for=\"sk-estimator-id-1\" class=\"sk-toggleable__label sk-toggleable__label-arrow\">MLPRegressor</label><div class=\"sk-toggleable__content\"><pre>MLPRegressor(activation=&#x27;tanh&#x27;, alpha=0.01, hidden_layer_sizes=(100, 50, 25),\n",
       "             learning_rate=&#x27;invscaling&#x27;, max_iter=100)</pre></div></div></div></div></div>"
      ],
      "text/plain": [
       "MLPRegressor(activation='tanh', alpha=0.01, hidden_layer_sizes=(100, 50, 25),\n",
       "             learning_rate='invscaling', max_iter=100)"
      ]
     },
     "execution_count": 10,
     "metadata": {},
     "output_type": "execute_result"
    }
   ],
   "source": [
    "# Train the model with the best parameters\n",
    "best_model = MLPRegressor(**params)\n",
    "best_model.fit(X_train, y_train)"
   ]
  },
  {
   "cell_type": "code",
   "execution_count": 11,
   "metadata": {},
   "outputs": [],
   "source": [
    "# Make predictions on the test set\n",
    "predictions = best_model.predict(X_test)"
   ]
  },
  {
   "cell_type": "code",
   "execution_count": 12,
   "metadata": {},
   "outputs": [
    {
     "name": "stdout",
     "output_type": "stream",
     "text": [
      "Root Mean Squared Error on the test set: 0.0430612064669181\n",
      "R-squared on the test set: 0.9971784196022732\n"
     ]
    }
   ],
   "source": [
    "# Evaluate the model\n",
    "mse = mean_squared_error(y_test, predictions)\n",
    "rmse = np.sqrt(mse)\n",
    "r2 = r2_score(y_test, predictions)\n",
    "\n",
    "#print(f\"Best parameters: {best_params}\")\n",
    "print(f\"Root Mean Squared Error on the test set: {rmse}\")\n",
    "print(f\"R-squared on the test set: {r2}\")"
   ]
  },
  {
   "cell_type": "code",
   "execution_count": 13,
   "metadata": {},
   "outputs": [],
   "source": [
    "predictionsRound = np.around(predictions, decimals=0)"
   ]
  },
  {
   "cell_type": "code",
   "execution_count": 14,
   "metadata": {},
   "outputs": [
    {
     "data": {
      "image/png": "[encoded data removed]",
      "text/plain": [
       "<Figure size 640x480 with 1 Axes>"
      ]
     },
     "metadata": {},
     "output_type": "display_data"
    }
   ],
   "source": [
    "plt.hist([y_test, predictionsRound], label=['Actual', 'Predicted'])\n",
    "plt.legend()\n",
    "plt.show()"
   ]
  },
  {
   "cell_type": "code",
   "execution_count": 22,
   "metadata": {},
   "outputs": [],
   "source": [
    "dfTest = pd.read_csv('postgres_validation_data.csv')"
   ]
  },
  {
   "cell_type": "code",
   "execution_count": 23,
   "metadata": {},
   "outputs": [
    {
     "data": {
      "text/html": [
       "<div>\n",
       "<style scoped>\n",
       "    .dataframe tbody tr th:only-of-type {\n",
       "        vertical-align: middle;\n",
       "    }\n",
       "\n",
       "    .dataframe tbody tr th {\n",
       "        vertical-align: top;\n",
       "    }\n",
       "\n",
       "    .dataframe thead th {\n",
       "        text-align: right;\n",
       "    }\n",
       "</style>\n",
       "<table border=\"1\" class=\"dataframe\">\n",
       "  <thead>\n",
       "    <tr style=\"text-align: right;\">\n",
       "      <th></th>\n",
       "      <th>tm</th>\n",
       "      <th>knt</th>\n",
       "      <th>ae</th>\n",
       "      <th>ae_cl</th>\n",
       "      <th>rv1</th>\n",
       "      <th>rv2</th>\n",
       "      <th>rv3</th>\n",
       "      <th>rv4</th>\n",
       "      <th>rv5</th>\n",
       "      <th>rv6</th>\n",
       "      <th>...</th>\n",
       "      <th>rv1493</th>\n",
       "      <th>rv1494</th>\n",
       "      <th>rv1495</th>\n",
       "      <th>rv1496</th>\n",
       "      <th>rv1497</th>\n",
       "      <th>rv1498</th>\n",
       "      <th>rv1499</th>\n",
       "      <th>rv1500</th>\n",
       "      <th>mn</th>\n",
       "      <th>ds</th>\n",
       "    </tr>\n",
       "  </thead>\n",
       "  <tbody>\n",
       "    <tr>\n",
       "      <th>0</th>\n",
       "      <td>2024-01-24 01:32:11.3875</td>\n",
       "      <td>1500</td>\n",
       "      <td>0.181943</td>\n",
       "      <td>0</td>\n",
       "      <td>2.0002</td>\n",
       "      <td>1.0001</td>\n",
       "      <td>2.0002</td>\n",
       "      <td>2.0002</td>\n",
       "      <td>2.0002</td>\n",
       "      <td>2.0002</td>\n",
       "      <td>...</td>\n",
       "      <td>1.0001</td>\n",
       "      <td>2.0002</td>\n",
       "      <td>1.0001</td>\n",
       "      <td>2.0002</td>\n",
       "      <td>2.0002</td>\n",
       "      <td>2.0002</td>\n",
       "      <td>2.0002</td>\n",
       "      <td>2.0002</td>\n",
       "      <td>500.060648</td>\n",
       "      <td>707.063901</td>\n",
       "    </tr>\n",
       "    <tr>\n",
       "      <th>1</th>\n",
       "      <td>2024-01-24 08:51:04.308806</td>\n",
       "      <td>1500</td>\n",
       "      <td>0.433016</td>\n",
       "      <td>1</td>\n",
       "      <td>20.7519</td>\n",
       "      <td>20.7519</td>\n",
       "      <td>20.7519</td>\n",
       "      <td>20.7519</td>\n",
       "      <td>20.7519</td>\n",
       "      <td>20.7519</td>\n",
       "      <td>...</td>\n",
       "      <td>20.7519</td>\n",
       "      <td>20.7519</td>\n",
       "      <td>21.9726</td>\n",
       "      <td>20.7519</td>\n",
       "      <td>21.9726</td>\n",
       "      <td>20.7519</td>\n",
       "      <td>20.7519</td>\n",
       "      <td>20.7519</td>\n",
       "      <td>500.477672</td>\n",
       "      <td>706.769054</td>\n",
       "    </tr>\n",
       "    <tr>\n",
       "      <th>2</th>\n",
       "      <td>2024-01-24 06:37:46.622796</td>\n",
       "      <td>1500</td>\n",
       "      <td>0.532427</td>\n",
       "      <td>1</td>\n",
       "      <td>2.0002</td>\n",
       "      <td>2.0002</td>\n",
       "      <td>2.0002</td>\n",
       "      <td>2.0002</td>\n",
       "      <td>2.0002</td>\n",
       "      <td>2.0002</td>\n",
       "      <td>...</td>\n",
       "      <td>1.0001</td>\n",
       "      <td>2.0002</td>\n",
       "      <td>1.0001</td>\n",
       "      <td>2.0002</td>\n",
       "      <td>2.0002</td>\n",
       "      <td>1.0001</td>\n",
       "      <td>2.0002</td>\n",
       "      <td>2.0002</td>\n",
       "      <td>500.510809</td>\n",
       "      <td>706.745610</td>\n",
       "    </tr>\n",
       "    <tr>\n",
       "      <th>3</th>\n",
       "      <td>2024-01-24 03:50:26.77633</td>\n",
       "      <td>1500</td>\n",
       "      <td>0.535184</td>\n",
       "      <td>1</td>\n",
       "      <td>2.4414</td>\n",
       "      <td>2.4414</td>\n",
       "      <td>2.4414</td>\n",
       "      <td>2.4414</td>\n",
       "      <td>2.4414</td>\n",
       "      <td>2.4414</td>\n",
       "      <td>...</td>\n",
       "      <td>2.4414</td>\n",
       "      <td>2.4414</td>\n",
       "      <td>2.4414</td>\n",
       "      <td>2.4414</td>\n",
       "      <td>2.4414</td>\n",
       "      <td>1.2207</td>\n",
       "      <td>2.4414</td>\n",
       "      <td>2.4414</td>\n",
       "      <td>500.511728</td>\n",
       "      <td>706.744960</td>\n",
       "    </tr>\n",
       "    <tr>\n",
       "      <th>4</th>\n",
       "      <td>2024-01-23 23:25:37.865158</td>\n",
       "      <td>1500</td>\n",
       "      <td>0.460215</td>\n",
       "      <td>1</td>\n",
       "      <td>2.0002</td>\n",
       "      <td>2.0002</td>\n",
       "      <td>2.0002</td>\n",
       "      <td>2.0002</td>\n",
       "      <td>2.0002</td>\n",
       "      <td>2.0002</td>\n",
       "      <td>...</td>\n",
       "      <td>2.0002</td>\n",
       "      <td>2.0002</td>\n",
       "      <td>2.0002</td>\n",
       "      <td>2.0002</td>\n",
       "      <td>2.0002</td>\n",
       "      <td>2.0002</td>\n",
       "      <td>2.0002</td>\n",
       "      <td>2.0002</td>\n",
       "      <td>500.486738</td>\n",
       "      <td>706.762640</td>\n",
       "    </tr>\n",
       "  </tbody>\n",
       "</table>\n",
       "<p>5 rows × 1506 columns</p>\n",
       "</div>"
      ],
      "text/plain": [
       "                           tm   knt        ae  ae_cl      rv1       rv2  \\\n",
       "0    2024-01-24 01:32:11.3875  1500  0.181943      0   2.0002    1.0001   \n",
       "1  2024-01-24 08:51:04.308806  1500  0.433016      1  20.7519   20.7519   \n",
       "2  2024-01-24 06:37:46.622796  1500  0.532427      1   2.0002    2.0002   \n",
       "3   2024-01-24 03:50:26.77633  1500  0.535184      1   2.4414    2.4414   \n",
       "4  2024-01-23 23:25:37.865158  1500  0.460215      1   2.0002    2.0002   \n",
       "\n",
       "        rv3       rv4       rv5       rv6  ...    rv1493    rv1494    rv1495  \\\n",
       "0    2.0002    2.0002    2.0002    2.0002  ...    1.0001    2.0002    1.0001   \n",
       "1   20.7519   20.7519   20.7519   20.7519  ...   20.7519   20.7519   21.9726   \n",
       "2    2.0002    2.0002    2.0002    2.0002  ...    1.0001    2.0002    1.0001   \n",
       "3    2.4414    2.4414    2.4414    2.4414  ...    2.4414    2.4414    2.4414   \n",
       "4    2.0002    2.0002    2.0002    2.0002  ...    2.0002    2.0002    2.0002   \n",
       "\n",
       "     rv1496    rv1497    rv1498    rv1499    rv1500          mn          ds  \n",
       "0    2.0002    2.0002    2.0002    2.0002    2.0002  500.060648  707.063901  \n",
       "1   20.7519   21.9726   20.7519   20.7519   20.7519  500.477672  706.769054  \n",
       "2    2.0002    2.0002    1.0001    2.0002    2.0002  500.510809  706.745610  \n",
       "3    2.4414    2.4414    1.2207    2.4414    2.4414  500.511728  706.744960  \n",
       "4    2.0002    2.0002    2.0002    2.0002    2.0002  500.486738  706.762640  \n",
       "\n",
       "[5 rows x 1506 columns]"
      ]
     },
     "execution_count": 23,
     "metadata": {},
     "output_type": "execute_result"
    }
   ],
   "source": [
    "#------------------------ Load and preprocess the data ------------------------\n",
    "\n",
    "# Split the rv column by comma into a list of Series\n",
    "split_series = dfTest['rv'].str.split(',', n=1499, expand=True).apply(pd.Series)\n",
    "\n",
    "# Concatenate the original DataFrame with the split Series\n",
    "dfTest = pd.concat([dfTest, split_series], axis=1)\n",
    "\n",
    "# Rename the split columns\n",
    "dfTest.rename(columns=dict(zip(split_series.columns, col_names)), inplace=True)\n",
    "\n",
    "dfTest['mn'] = dfTest.select_dtypes(include='number').mean(axis=1)\n",
    "dfTest['ds'] = dfTest.select_dtypes(include='number').std(axis=1)\n",
    "\n",
    "# Drop the original 'rv' column\n",
    "dfTest.drop('rv', axis=1, inplace=True)\n",
    "\n",
    "dfTest.head()"
   ]
  },
  {
   "cell_type": "code",
   "execution_count": 24,
   "metadata": {},
   "outputs": [],
   "source": [
    "new_data = dfTest.loc[:, 'rv1':'ds'].astype(float).values\n",
    "target_new_data = dfTest['ae_cl']"
   ]
  },
  {
   "cell_type": "code",
   "execution_count": 25,
   "metadata": {},
   "outputs": [],
   "source": [
    "# Apply the same preprocessing steps to the new data\n",
    "new_data_imputed = imputer.transform(new_data)\n",
    "new_data_scaled = scaler.transform(new_data_imputed)"
   ]
  },
  {
   "cell_type": "code",
   "execution_count": 26,
   "metadata": {},
   "outputs": [],
   "source": [
    "# Use the trained model to make predictions on the new data\n",
    "new_data_predictions = best_model.predict(new_data_scaled)"
   ]
  },
  {
   "cell_type": "code",
   "execution_count": 27,
   "metadata": {},
   "outputs": [],
   "source": [
    "newPredictionsRound = np.around(new_data_predictions, decimals=0)"
   ]
  },
  {
   "cell_type": "code",
   "execution_count": 28,
   "metadata": {},
   "outputs": [
    {
     "data": {
      "image/png": "[encoded data removed]",
      "text/plain": [
       "<Figure size 640x480 with 1 Axes>"
      ]
     },
     "metadata": {},
     "output_type": "display_data"
    }
   ],
   "source": [
    "plt.hist([target_new_data, newPredictionsRound], label=['Actual', 'Predicted'])\n",
    "plt.legend()\n",
    "plt.show()"
   ]
  },
  {
   "cell_type": "markdown",
   "metadata": {},
   "source": [
    "# MLP 2"
   ]
  },
  {
   "cell_type": "code",
   "execution_count": 1,
   "metadata": {},
   "outputs": [
    {
     "name": "stdout",
     "output_type": "stream",
     "text": [
      "WARNING:tensorflow:From c:\\Users\\esteo\\anaconda3\\lib\\site-packages\\keras\\src\\losses.py:2976: The name tf.losses.sparse_softmax_cross_entropy is deprecated. Please use tf.compat.v1.losses.sparse_softmax_cross_entropy instead.\n",
      "\n"
     ]
    }
   ],
   "source": [
    "import numpy as np\n",
    "import pandas as pd\n",
    "from sklearn.model_selection import train_test_split\n",
    "from sklearn.preprocessing import StandardScaler\n",
    "from sklearn.metrics import accuracy_score, precision_score, recall_score, f1_score, confusion_matrix\n",
    "import tensorflow as tf\n",
    "from sklearn.impute import SimpleImputer\n",
    "from tensorflow.keras import layers, models\n",
    "import matplotlib.pyplot as plt"
   ]
  },
  {
   "cell_type": "code",
   "execution_count": 2,
   "metadata": {},
   "outputs": [],
   "source": [
    "# Dati estrapolati dal db remoto di Giuliano in data 22/01/2024, solamente per le classi 0 e 1\n",
    "df1 = pd.read_csv('postgres_dati_aggiornati.csv')\n",
    "\n",
    "df2 = pd.read_csv('postgres_new_data.csv')\n",
    "\n",
    "df = pd.concat([df1, df2], ignore_index=True)"
   ]
  },
  {
   "cell_type": "code",
   "execution_count": 3,
   "metadata": {},
   "outputs": [],
   "source": [
    "dfTraining = pd.concat(\n",
    "    [\n",
    "        np.array_split(df[df.ae_cl == 0], 3)[0],\n",
    "        np.array_split(df[df.ae_cl == 0], 3)[1],\n",
    "        np.array_split(df[df.ae_cl == 1], 3)[0],\n",
    "        np.array_split(df[df.ae_cl == 1], 3)[1],        \n",
    "        np.array_split(df[df.ae_cl == 2], 3)[0],\n",
    "        np.array_split(df[df.ae_cl == 2], 3)[1]\n",
    "    ],\n",
    "    ignore_index=True\n",
    ")\n",
    "\n",
    "\n",
    "dfTest = pd.concat(\n",
    "    [\n",
    "        np.array_split(df[df.ae_cl == 0], 3)[2],\n",
    "        np.array_split(df[df.ae_cl == 1], 3)[2],\n",
    "        np.array_split(df[df.ae_cl == 2], 3)[2]\n",
    "    ],\n",
    "    ignore_index=True\n",
    ")"
   ]
  },
  {
   "cell_type": "code",
   "execution_count": 4,
   "metadata": {},
   "outputs": [],
   "source": [
    "#------------------------ Load and preprocess the data ------------------------\n",
    "\n",
    "# Generate the column names as rv1, rv2, ..., rv1500\n",
    "col_names = [f'rv{i}' for i in range(1, 1501)]\n",
    "\n",
    "# Split the rv column by comma into a list of Series\n",
    "split_series = dfTraining['rv'].str.split(',', n=1499, expand=True).apply(pd.Series)\n",
    "\n",
    "# Concatenate the original DataFrame with the split Series\n",
    "dfTraining = pd.concat([dfTraining, split_series], axis=1)\n",
    "\n",
    "# Rename the split columns\n",
    "dfTraining.rename(columns=dict(zip(split_series.columns, col_names)), inplace=True)\n",
    "\n",
    "dfTraining['mn'] = dfTraining.select_dtypes(include='number').mean(axis=1)\n",
    "dfTraining['ds'] = dfTraining.select_dtypes(include='number').std(axis=1)\n",
    "\n",
    "# Drop the original 'rv' column\n",
    "dfTraining.drop('rv', axis=1, inplace=True)"
   ]
  },
  {
   "cell_type": "code",
   "execution_count": 5,
   "metadata": {},
   "outputs": [],
   "source": [
    "X = dfTraining.loc[:, 'rv1':'ds'].astype(float).values\n",
    "y = dfTraining['ae_cl']"
   ]
  },
  {
   "cell_type": "code",
   "execution_count": 6,
   "metadata": {},
   "outputs": [],
   "source": [
    "# Split the dataset into training and test sets\n",
    "X_train, X_test, y_train, y_test = train_test_split(X, y, test_size=0.2, random_state=42)"
   ]
  },
  {
   "cell_type": "code",
   "execution_count": 7,
   "metadata": {},
   "outputs": [],
   "source": [
    "# Standardize the input features\n",
    "scaler = StandardScaler()\n",
    "X_train = scaler.fit_transform(X_train)\n",
    "X_test = scaler.transform(X_test)"
   ]
  },
  {
   "cell_type": "code",
   "execution_count": 8,
   "metadata": {},
   "outputs": [
    {
     "name": "stdout",
     "output_type": "stream",
     "text": [
      "WARNING:tensorflow:From c:\\Users\\esteo\\anaconda3\\lib\\site-packages\\keras\\src\\backend.py:873: The name tf.get_default_graph is deprecated. Please use tf.compat.v1.get_default_graph instead.\n",
      "\n",
      "WARNING:tensorflow:From c:\\Users\\esteo\\anaconda3\\lib\\site-packages\\keras\\src\\optimizers\\__init__.py:309: The name tf.train.Optimizer is deprecated. Please use tf.compat.v1.train.Optimizer instead.\n",
      "\n"
     ]
    }
   ],
   "source": [
    "# Define the MLP model\n",
    "model = models.Sequential()\n",
    "model.add(layers.Dense(512, activation='relu', input_shape=(1502,)))\n",
    "model.add(layers.Dropout(0.5))\n",
    "model.add(layers.Dense(256, activation='relu'))\n",
    "model.add(layers.Dropout(0.5))\n",
    "model.add(layers.Dense(3, activation='softmax'))\n",
    "\n",
    "# Compile the model\n",
    "model.compile(optimizer='adam', loss='sparse_categorical_crossentropy', metrics=['accuracy'])\n"
   ]
  },
  {
   "cell_type": "code",
   "execution_count": 9,
   "metadata": {},
   "outputs": [
    {
     "name": "stdout",
     "output_type": "stream",
     "text": [
      "Epoch 1/100\n",
      "WARNING:tensorflow:From c:\\Users\\esteo\\anaconda3\\lib\\site-packages\\keras\\src\\utils\\tf_utils.py:492: The name tf.ragged.RaggedTensorValue is deprecated. Please use tf.compat.v1.ragged.RaggedTensorValue instead.\n",
      "\n",
      "WARNING:tensorflow:From c:\\Users\\esteo\\anaconda3\\lib\\site-packages\\keras\\src\\engine\\base_layer_utils.py:384: The name tf.executing_eagerly_outside_functions is deprecated. Please use tf.compat.v1.executing_eagerly_outside_functions instead.\n",
      "\n",
      "133/133 - 1s - loss: 2.1247 - accuracy: 0.5722 - val_loss: 0.6663 - val_accuracy: 0.6717 - 1s/epoch - 11ms/step\n",
      "Epoch 2/100\n",
      "133/133 - 1s - loss: 0.8479 - accuracy: 0.7001 - val_loss: 0.2744 - val_accuracy: 0.9415 - 703ms/epoch - 5ms/step\n",
      "Epoch 3/100\n",
      "133/133 - 1s - loss: 0.4134 - accuracy: 0.8157 - val_loss: 0.2091 - val_accuracy: 0.9415 - 798ms/epoch - 6ms/step\n",
      "Epoch 4/100\n",
      "133/133 - 1s - loss: 0.2587 - accuracy: 0.8801 - val_loss: 0.1399 - val_accuracy: 0.9443 - 785ms/epoch - 6ms/step\n",
      "Epoch 5/100\n",
      "133/133 - 1s - loss: 0.2393 - accuracy: 0.8858 - val_loss: 0.1349 - val_accuracy: 0.9443 - 598ms/epoch - 4ms/step\n",
      "Epoch 6/100\n",
      "133/133 - 1s - loss: 0.2030 - accuracy: 0.9028 - val_loss: 0.1244 - val_accuracy: 0.9443 - 585ms/epoch - 4ms/step\n",
      "Epoch 7/100\n",
      "133/133 - 1s - loss: 0.2378 - accuracy: 0.8867 - val_loss: 0.1273 - val_accuracy: 0.9443 - 547ms/epoch - 4ms/step\n",
      "Epoch 8/100\n",
      "133/133 - 1s - loss: 0.2100 - accuracy: 0.8988 - val_loss: 0.1233 - val_accuracy: 0.9443 - 892ms/epoch - 7ms/step\n",
      "Epoch 9/100\n",
      "133/133 - 1s - loss: 0.1821 - accuracy: 0.9068 - val_loss: 0.1193 - val_accuracy: 0.9472 - 731ms/epoch - 5ms/step\n",
      "Epoch 10/100\n",
      "133/133 - 1s - loss: 0.1680 - accuracy: 0.9195 - val_loss: 0.1207 - val_accuracy: 0.9443 - 587ms/epoch - 4ms/step\n",
      "Epoch 11/100\n",
      "133/133 - 1s - loss: 0.2223 - accuracy: 0.8974 - val_loss: 0.1869 - val_accuracy: 0.9443 - 700ms/epoch - 5ms/step\n",
      "Epoch 12/100\n",
      "133/133 - 1s - loss: 0.1999 - accuracy: 0.8997 - val_loss: 0.1207 - val_accuracy: 0.9425 - 750ms/epoch - 6ms/step\n",
      "Epoch 13/100\n",
      "133/133 - 1s - loss: 0.1707 - accuracy: 0.9143 - val_loss: 0.1184 - val_accuracy: 0.9443 - 655ms/epoch - 5ms/step\n",
      "Epoch 14/100\n",
      "133/133 - 1s - loss: 0.1612 - accuracy: 0.9158 - val_loss: 0.1388 - val_accuracy: 0.8802 - 615ms/epoch - 5ms/step\n",
      "Epoch 15/100\n",
      "133/133 - 1s - loss: 0.1680 - accuracy: 0.9198 - val_loss: 0.1224 - val_accuracy: 0.9443 - 704ms/epoch - 5ms/step\n",
      "Epoch 16/100\n",
      "133/133 - 1s - loss: 0.1724 - accuracy: 0.9184 - val_loss: 0.1211 - val_accuracy: 0.9443 - 854ms/epoch - 6ms/step\n",
      "Epoch 17/100\n",
      "133/133 - 1s - loss: 0.2065 - accuracy: 0.9056 - val_loss: 0.1214 - val_accuracy: 0.9425 - 878ms/epoch - 7ms/step\n",
      "Epoch 18/100\n",
      "133/133 - 1s - loss: 0.1749 - accuracy: 0.9141 - val_loss: 0.1213 - val_accuracy: 0.9425 - 914ms/epoch - 7ms/step\n",
      "Epoch 19/100\n",
      "133/133 - 1s - loss: 0.1790 - accuracy: 0.9136 - val_loss: 0.1212 - val_accuracy: 0.9443 - 787ms/epoch - 6ms/step\n",
      "Epoch 20/100\n",
      "133/133 - 1s - loss: 0.1735 - accuracy: 0.9158 - val_loss: 0.1239 - val_accuracy: 0.9415 - 932ms/epoch - 7ms/step\n",
      "Epoch 21/100\n",
      "133/133 - 1s - loss: 0.1988 - accuracy: 0.9044 - val_loss: 0.1673 - val_accuracy: 0.9396 - 699ms/epoch - 5ms/step\n",
      "Epoch 22/100\n",
      "133/133 - 1s - loss: 0.1797 - accuracy: 0.9188 - val_loss: 0.1173 - val_accuracy: 0.9443 - 815ms/epoch - 6ms/step\n",
      "Epoch 23/100\n",
      "133/133 - 1s - loss: 0.1832 - accuracy: 0.9214 - val_loss: 0.1268 - val_accuracy: 0.9434 - 600ms/epoch - 5ms/step\n",
      "Epoch 24/100\n",
      "133/133 - 1s - loss: 0.1901 - accuracy: 0.9125 - val_loss: 0.1110 - val_accuracy: 0.9443 - 785ms/epoch - 6ms/step\n",
      "Epoch 25/100\n",
      "133/133 - 1s - loss: 0.1814 - accuracy: 0.9169 - val_loss: 0.1234 - val_accuracy: 0.9434 - 564ms/epoch - 4ms/step\n",
      "Epoch 26/100\n",
      "133/133 - 1s - loss: 0.1598 - accuracy: 0.9224 - val_loss: 0.1675 - val_accuracy: 0.8708 - 685ms/epoch - 5ms/step\n",
      "Epoch 27/100\n",
      "133/133 - 1s - loss: 0.2206 - accuracy: 0.9087 - val_loss: 0.1165 - val_accuracy: 0.9434 - 732ms/epoch - 6ms/step\n",
      "Epoch 28/100\n",
      "133/133 - 1s - loss: 0.1660 - accuracy: 0.9205 - val_loss: 0.1154 - val_accuracy: 0.9443 - 583ms/epoch - 4ms/step\n",
      "Epoch 29/100\n",
      "133/133 - 1s - loss: 0.1812 - accuracy: 0.9146 - val_loss: 0.1172 - val_accuracy: 0.9443 - 667ms/epoch - 5ms/step\n",
      "Epoch 30/100\n",
      "133/133 - 1s - loss: 0.1601 - accuracy: 0.9257 - val_loss: 0.1042 - val_accuracy: 0.9481 - 587ms/epoch - 4ms/step\n",
      "Epoch 31/100\n",
      "133/133 - 1s - loss: 0.1562 - accuracy: 0.9240 - val_loss: 0.1135 - val_accuracy: 0.9472 - 582ms/epoch - 4ms/step\n",
      "Epoch 32/100\n",
      "133/133 - 1s - loss: 0.1503 - accuracy: 0.9299 - val_loss: 0.1179 - val_accuracy: 0.9434 - 688ms/epoch - 5ms/step\n",
      "Epoch 33/100\n",
      "133/133 - 1s - loss: 0.1514 - accuracy: 0.9250 - val_loss: 0.1143 - val_accuracy: 0.9462 - 648ms/epoch - 5ms/step\n",
      "Epoch 34/100\n",
      "133/133 - 1s - loss: 0.1353 - accuracy: 0.9330 - val_loss: 0.1006 - val_accuracy: 0.9500 - 732ms/epoch - 6ms/step\n",
      "Epoch 35/100\n",
      "133/133 - 1s - loss: 0.2226 - accuracy: 0.9054 - val_loss: 0.1225 - val_accuracy: 0.9443 - 733ms/epoch - 6ms/step\n",
      "Epoch 36/100\n",
      "133/133 - 1s - loss: 0.2810 - accuracy: 0.8912 - val_loss: 0.1216 - val_accuracy: 0.9443 - 768ms/epoch - 6ms/step\n",
      "Epoch 37/100\n",
      "133/133 - 1s - loss: 0.1755 - accuracy: 0.9179 - val_loss: 0.1273 - val_accuracy: 0.9425 - 599ms/epoch - 5ms/step\n",
      "Epoch 38/100\n",
      "133/133 - 1s - loss: 0.1648 - accuracy: 0.9235 - val_loss: 0.1247 - val_accuracy: 0.9434 - 602ms/epoch - 5ms/step\n",
      "Epoch 39/100\n",
      "133/133 - 1s - loss: 0.1660 - accuracy: 0.9179 - val_loss: 0.1334 - val_accuracy: 0.9453 - 851ms/epoch - 6ms/step\n",
      "Epoch 40/100\n",
      "133/133 - 1s - loss: 0.1566 - accuracy: 0.9261 - val_loss: 0.1199 - val_accuracy: 0.9425 - 918ms/epoch - 7ms/step\n",
      "Epoch 41/100\n",
      "133/133 - 1s - loss: 0.1559 - accuracy: 0.9212 - val_loss: 0.1249 - val_accuracy: 0.9434 - 715ms/epoch - 5ms/step\n",
      "Epoch 42/100\n",
      "133/133 - 1s - loss: 0.1502 - accuracy: 0.9278 - val_loss: 0.1140 - val_accuracy: 0.9443 - 719ms/epoch - 5ms/step\n",
      "Epoch 43/100\n",
      "133/133 - 1s - loss: 0.1558 - accuracy: 0.9271 - val_loss: 0.1146 - val_accuracy: 0.9443 - 581ms/epoch - 4ms/step\n",
      "Epoch 44/100\n",
      "133/133 - 1s - loss: 0.1596 - accuracy: 0.9245 - val_loss: 0.1161 - val_accuracy: 0.9443 - 599ms/epoch - 5ms/step\n",
      "Epoch 45/100\n",
      "133/133 - 1s - loss: 0.1692 - accuracy: 0.9202 - val_loss: 0.1074 - val_accuracy: 0.9462 - 667ms/epoch - 5ms/step\n",
      "Epoch 46/100\n",
      "133/133 - 1s - loss: 0.1617 - accuracy: 0.9238 - val_loss: 0.1176 - val_accuracy: 0.9472 - 736ms/epoch - 6ms/step\n",
      "Epoch 47/100\n",
      "133/133 - 1s - loss: 0.1785 - accuracy: 0.9186 - val_loss: 0.1265 - val_accuracy: 0.9443 - 983ms/epoch - 7ms/step\n",
      "Epoch 48/100\n",
      "133/133 - 1s - loss: 0.1974 - accuracy: 0.9165 - val_loss: 0.1275 - val_accuracy: 0.9443 - 902ms/epoch - 7ms/step\n",
      "Epoch 49/100\n",
      "133/133 - 1s - loss: 0.1572 - accuracy: 0.9266 - val_loss: 0.1204 - val_accuracy: 0.9500 - 845ms/epoch - 6ms/step\n",
      "Epoch 50/100\n",
      "133/133 - 1s - loss: 0.1504 - accuracy: 0.9297 - val_loss: 0.1135 - val_accuracy: 0.9500 - 732ms/epoch - 6ms/step\n",
      "Epoch 51/100\n",
      "133/133 - 1s - loss: 0.1474 - accuracy: 0.9271 - val_loss: 0.1156 - val_accuracy: 0.9481 - 1s/epoch - 8ms/step\n",
      "Epoch 52/100\n",
      "133/133 - 1s - loss: 0.2731 - accuracy: 0.9000 - val_loss: 0.1241 - val_accuracy: 0.9443 - 887ms/epoch - 7ms/step\n",
      "Epoch 53/100\n",
      "133/133 - 1s - loss: 0.1535 - accuracy: 0.9252 - val_loss: 0.1222 - val_accuracy: 0.9443 - 699ms/epoch - 5ms/step\n",
      "Epoch 54/100\n",
      "133/133 - 1s - loss: 0.1420 - accuracy: 0.9297 - val_loss: 0.1023 - val_accuracy: 0.9962 - 650ms/epoch - 5ms/step\n",
      "Epoch 55/100\n",
      "133/133 - 1s - loss: 0.1450 - accuracy: 0.9287 - val_loss: 0.1226 - val_accuracy: 0.9443 - 567ms/epoch - 4ms/step\n",
      "Epoch 56/100\n",
      "133/133 - 1s - loss: 0.1573 - accuracy: 0.9221 - val_loss: 0.1216 - val_accuracy: 0.9443 - 796ms/epoch - 6ms/step\n",
      "Epoch 57/100\n",
      "133/133 - 1s - loss: 0.1503 - accuracy: 0.9266 - val_loss: 0.1195 - val_accuracy: 0.9472 - 918ms/epoch - 7ms/step\n",
      "Epoch 58/100\n",
      "133/133 - 1s - loss: 0.1645 - accuracy: 0.9276 - val_loss: 0.1196 - val_accuracy: 0.9443 - 1s/epoch - 9ms/step\n",
      "Epoch 59/100\n",
      "133/133 - 1s - loss: 0.1629 - accuracy: 0.9221 - val_loss: 0.1270 - val_accuracy: 0.9425 - 974ms/epoch - 7ms/step\n",
      "Epoch 60/100\n",
      "133/133 - 1s - loss: 0.2103 - accuracy: 0.9143 - val_loss: 0.1231 - val_accuracy: 0.9443 - 824ms/epoch - 6ms/step\n",
      "Epoch 61/100\n",
      "133/133 - 1s - loss: 0.1559 - accuracy: 0.9250 - val_loss: 0.1220 - val_accuracy: 0.9443 - 989ms/epoch - 7ms/step\n",
      "Epoch 62/100\n",
      "133/133 - 1s - loss: 0.1464 - accuracy: 0.9271 - val_loss: 0.1189 - val_accuracy: 0.9443 - 918ms/epoch - 7ms/step\n",
      "Epoch 63/100\n",
      "133/133 - 1s - loss: 0.1426 - accuracy: 0.9285 - val_loss: 0.1200 - val_accuracy: 0.9443 - 782ms/epoch - 6ms/step\n",
      "Epoch 64/100\n",
      "133/133 - 1s - loss: 0.1780 - accuracy: 0.9165 - val_loss: 0.1168 - val_accuracy: 0.9472 - 717ms/epoch - 5ms/step\n",
      "Epoch 65/100\n",
      "133/133 - 1s - loss: 0.1895 - accuracy: 0.9176 - val_loss: 0.1184 - val_accuracy: 0.9453 - 717ms/epoch - 5ms/step\n",
      "Epoch 66/100\n",
      "133/133 - 1s - loss: 0.1661 - accuracy: 0.9200 - val_loss: 0.1217 - val_accuracy: 0.9443 - 984ms/epoch - 7ms/step\n",
      "Epoch 67/100\n",
      "133/133 - 1s - loss: 0.1782 - accuracy: 0.9210 - val_loss: 0.1189 - val_accuracy: 0.9453 - 930ms/epoch - 7ms/step\n",
      "Epoch 68/100\n",
      "133/133 - 1s - loss: 0.1408 - accuracy: 0.9287 - val_loss: 0.1196 - val_accuracy: 0.9443 - 989ms/epoch - 7ms/step\n",
      "Epoch 69/100\n",
      "133/133 - 1s - loss: 0.1444 - accuracy: 0.9278 - val_loss: 0.1200 - val_accuracy: 0.9443 - 804ms/epoch - 6ms/step\n",
      "Epoch 70/100\n",
      "133/133 - 1s - loss: 0.1438 - accuracy: 0.9283 - val_loss: 0.1191 - val_accuracy: 0.9453 - 602ms/epoch - 5ms/step\n",
      "Epoch 71/100\n",
      "133/133 - 1s - loss: 0.1558 - accuracy: 0.9235 - val_loss: 0.1157 - val_accuracy: 0.9453 - 568ms/epoch - 4ms/step\n",
      "Epoch 72/100\n",
      "133/133 - 1s - loss: 0.1726 - accuracy: 0.9191 - val_loss: 0.1227 - val_accuracy: 0.9443 - 736ms/epoch - 6ms/step\n",
      "Epoch 73/100\n",
      "133/133 - 1s - loss: 0.1947 - accuracy: 0.9129 - val_loss: 0.1221 - val_accuracy: 0.9443 - 914ms/epoch - 7ms/step\n",
      "Epoch 74/100\n",
      "133/133 - 1s - loss: 0.1597 - accuracy: 0.9271 - val_loss: 0.1221 - val_accuracy: 0.9443 - 1s/epoch - 8ms/step\n",
      "Epoch 75/100\n",
      "133/133 - 1s - loss: 0.1433 - accuracy: 0.9266 - val_loss: 0.1179 - val_accuracy: 0.9443 - 883ms/epoch - 7ms/step\n",
      "Epoch 76/100\n",
      "133/133 - 1s - loss: 0.1442 - accuracy: 0.9292 - val_loss: 0.1189 - val_accuracy: 0.9443 - 681ms/epoch - 5ms/step\n",
      "Epoch 77/100\n",
      "133/133 - 1s - loss: 0.1471 - accuracy: 0.9254 - val_loss: 0.1206 - val_accuracy: 0.9443 - 979ms/epoch - 7ms/step\n",
      "Epoch 78/100\n",
      "133/133 - 1s - loss: 0.1526 - accuracy: 0.9278 - val_loss: 0.1195 - val_accuracy: 0.9443 - 759ms/epoch - 6ms/step\n",
      "Epoch 79/100\n",
      "133/133 - 1s - loss: 0.1801 - accuracy: 0.9235 - val_loss: 0.1225 - val_accuracy: 0.9443 - 731ms/epoch - 5ms/step\n",
      "Epoch 80/100\n",
      "133/133 - 1s - loss: 0.2223 - accuracy: 0.9139 - val_loss: 0.1207 - val_accuracy: 0.9443 - 836ms/epoch - 6ms/step\n",
      "Epoch 81/100\n",
      "133/133 - 1s - loss: 0.1570 - accuracy: 0.9224 - val_loss: 0.1186 - val_accuracy: 0.9443 - 815ms/epoch - 6ms/step\n",
      "Epoch 82/100\n",
      "133/133 - 1s - loss: 0.1435 - accuracy: 0.9276 - val_loss: 0.1182 - val_accuracy: 0.9443 - 881ms/epoch - 7ms/step\n",
      "Epoch 83/100\n",
      "133/133 - 1s - loss: 0.1519 - accuracy: 0.9280 - val_loss: 0.1194 - val_accuracy: 0.9443 - 749ms/epoch - 6ms/step\n",
      "Epoch 84/100\n",
      "133/133 - 1s - loss: 0.1420 - accuracy: 0.9276 - val_loss: 0.1166 - val_accuracy: 0.9462 - 850ms/epoch - 6ms/step\n",
      "Epoch 85/100\n",
      "133/133 - 1s - loss: 0.1442 - accuracy: 0.9271 - val_loss: 0.1175 - val_accuracy: 0.9443 - 797ms/epoch - 6ms/step\n",
      "Epoch 86/100\n",
      "133/133 - 1s - loss: 0.1710 - accuracy: 0.9193 - val_loss: 0.1202 - val_accuracy: 0.9443 - 833ms/epoch - 6ms/step\n",
      "Epoch 87/100\n",
      "133/133 - 1s - loss: 0.1765 - accuracy: 0.9191 - val_loss: 0.1199 - val_accuracy: 0.9443 - 898ms/epoch - 7ms/step\n",
      "Epoch 88/100\n",
      "133/133 - 1s - loss: 0.1446 - accuracy: 0.9257 - val_loss: 0.1207 - val_accuracy: 0.9443 - 1s/epoch - 8ms/step\n",
      "Epoch 89/100\n",
      "133/133 - 1s - loss: 0.1498 - accuracy: 0.9233 - val_loss: 0.1183 - val_accuracy: 0.9443 - 929ms/epoch - 7ms/step\n",
      "Epoch 90/100\n",
      "133/133 - 1s - loss: 0.1495 - accuracy: 0.9243 - val_loss: 0.1174 - val_accuracy: 0.9443 - 975ms/epoch - 7ms/step\n",
      "Epoch 91/100\n",
      "133/133 - 1s - loss: 0.1459 - accuracy: 0.9271 - val_loss: 0.1159 - val_accuracy: 0.9453 - 826ms/epoch - 6ms/step\n",
      "Epoch 92/100\n",
      "133/133 - 1s - loss: 0.1400 - accuracy: 0.9273 - val_loss: 0.1148 - val_accuracy: 0.9462 - 664ms/epoch - 5ms/step\n",
      "Epoch 93/100\n",
      "133/133 - 1s - loss: 0.1544 - accuracy: 0.9233 - val_loss: 0.1175 - val_accuracy: 0.9472 - 860ms/epoch - 6ms/step\n",
      "Epoch 94/100\n",
      "133/133 - 1s - loss: 0.1399 - accuracy: 0.9292 - val_loss: 0.1144 - val_accuracy: 0.9491 - 955ms/epoch - 7ms/step\n",
      "Epoch 95/100\n",
      "133/133 - 1s - loss: 0.1450 - accuracy: 0.9266 - val_loss: 0.1152 - val_accuracy: 0.9453 - 731ms/epoch - 5ms/step\n",
      "Epoch 96/100\n",
      "133/133 - 1s - loss: 0.1515 - accuracy: 0.9243 - val_loss: 0.1161 - val_accuracy: 0.9472 - 858ms/epoch - 6ms/step\n",
      "Epoch 97/100\n",
      "133/133 - 1s - loss: 0.1938 - accuracy: 0.9158 - val_loss: 0.1166 - val_accuracy: 0.9453 - 841ms/epoch - 6ms/step\n",
      "Epoch 98/100\n",
      "133/133 - 1s - loss: 0.1821 - accuracy: 0.9224 - val_loss: 0.1180 - val_accuracy: 0.9443 - 854ms/epoch - 6ms/step\n",
      "Epoch 99/100\n",
      "133/133 - 1s - loss: 0.1565 - accuracy: 0.9224 - val_loss: 0.1198 - val_accuracy: 0.9415 - 1s/epoch - 8ms/step\n",
      "Epoch 100/100\n",
      "133/133 - 1s - loss: 0.1644 - accuracy: 0.9238 - val_loss: 0.1222 - val_accuracy: 0.9396 - 1s/epoch - 8ms/step\n"
     ]
    }
   ],
   "source": [
    "history = model.fit(X_train, y_train, epochs=100, batch_size=32, validation_split=0.2, verbose=2)"
   ]
  },
  {
   "cell_type": "code",
   "execution_count": 10,
   "metadata": {},
   "outputs": [
    {
     "name": "stdout",
     "output_type": "stream",
     "text": [
      "42/42 [==============================] - 0s 1ms/step\n",
      "Accuracy: 91.62%\n",
      "Precision: 0.93\n",
      "Recall: 0.92\n",
      "F1 Score: 0.91\n"
     ]
    }
   ],
   "source": [
    "\n",
    "# Predict probabilities for each class\n",
    "y_pred_probabilities = model.predict(X_test)\n",
    "\n",
    "# Get the class with the highest probability for each sample\n",
    "y_pred = np.argmax(y_pred_probabilities, axis=1)\n",
    "\n",
    "# Calculate and print various metrics\n",
    "accuracy = accuracy_score(y_test, y_pred)\n",
    "precision = precision_score(y_test, y_pred, average='weighted')\n",
    "recall = recall_score(y_test, y_pred, average='weighted')\n",
    "f1 = f1_score(y_test, y_pred, average='weighted')\n",
    "conf_matrix = confusion_matrix(y_test, y_pred)\n",
    "\n",
    "print(f\"Accuracy: {accuracy*100:.2f}%\")\n",
    "print(f\"Precision: {precision:.2f}\")\n",
    "print(f\"Recall: {recall:.2f}\")\n",
    "print(f\"F1 Score: {f1:.2f}\")"
   ]
  },
  {
   "cell_type": "code",
   "execution_count": 11,
   "metadata": {},
   "outputs": [
    {
     "data": {
      "image/png": "[encoded data removed]",
      "text/plain": [
       "<Figure size 640x480 with 1 Axes>"
      ]
     },
     "metadata": {},
     "output_type": "display_data"
    }
   ],
   "source": [
    "plt.hist([y_test, y_pred], label=['Actual', 'Predicted'])\n",
    "plt.legend()\n",
    "plt.show()"
   ]
  },
  {
   "cell_type": "code",
   "execution_count": 12,
   "metadata": {},
   "outputs": [
    {
     "data": {
      "text/html": [
       "<div>\n",
       "<style scoped>\n",
       "    .dataframe tbody tr th:only-of-type {\n",
       "        vertical-align: middle;\n",
       "    }\n",
       "\n",
       "    .dataframe tbody tr th {\n",
       "        vertical-align: top;\n",
       "    }\n",
       "\n",
       "    .dataframe thead th {\n",
       "        text-align: right;\n",
       "    }\n",
       "</style>\n",
       "<table border=\"1\" class=\"dataframe\">\n",
       "  <thead>\n",
       "    <tr style=\"text-align: right;\">\n",
       "      <th></th>\n",
       "      <th>tm</th>\n",
       "      <th>knt</th>\n",
       "      <th>ae</th>\n",
       "      <th>ae_cl</th>\n",
       "      <th>rv1</th>\n",
       "      <th>rv2</th>\n",
       "      <th>rv3</th>\n",
       "      <th>rv4</th>\n",
       "      <th>rv5</th>\n",
       "      <th>rv6</th>\n",
       "      <th>...</th>\n",
       "      <th>rv1493</th>\n",
       "      <th>rv1494</th>\n",
       "      <th>rv1495</th>\n",
       "      <th>rv1496</th>\n",
       "      <th>rv1497</th>\n",
       "      <th>rv1498</th>\n",
       "      <th>rv1499</th>\n",
       "      <th>rv1500</th>\n",
       "      <th>mn</th>\n",
       "      <th>ds</th>\n",
       "    </tr>\n",
       "  </thead>\n",
       "  <tbody>\n",
       "    <tr>\n",
       "      <th>0</th>\n",
       "      <td>2023-11-27 18:19:18.865912</td>\n",
       "      <td>1500</td>\n",
       "      <td>0.314221</td>\n",
       "      <td>0</td>\n",
       "      <td>1593.1593</td>\n",
       "      <td>1593.1593</td>\n",
       "      <td>1593.1593</td>\n",
       "      <td>1593.1593</td>\n",
       "      <td>1593.1593</td>\n",
       "      <td>1593.1593</td>\n",
       "      <td>...</td>\n",
       "      <td>1593.1593</td>\n",
       "      <td>1593.1593</td>\n",
       "      <td>1593.1593</td>\n",
       "      <td>1593.1593</td>\n",
       "      <td>1593.1593</td>\n",
       "      <td>1593.1593</td>\n",
       "      <td>1593.1593</td>\n",
       "      <td>1593.1593</td>\n",
       "      <td>500.104740</td>\n",
       "      <td>707.032730</td>\n",
       "    </tr>\n",
       "    <tr>\n",
       "      <th>1</th>\n",
       "      <td>2023-11-27 18:20:15.4063</td>\n",
       "      <td>1500</td>\n",
       "      <td>0.215168</td>\n",
       "      <td>0</td>\n",
       "      <td>1592.1592</td>\n",
       "      <td>1592.1592</td>\n",
       "      <td>1592.1592</td>\n",
       "      <td>1592.1592</td>\n",
       "      <td>1592.1592</td>\n",
       "      <td>1592.1592</td>\n",
       "      <td>...</td>\n",
       "      <td>1592.1592</td>\n",
       "      <td>1592.1592</td>\n",
       "      <td>1592.1592</td>\n",
       "      <td>1592.1592</td>\n",
       "      <td>1592.1592</td>\n",
       "      <td>1592.1592</td>\n",
       "      <td>1592.1592</td>\n",
       "      <td>1592.1592</td>\n",
       "      <td>500.071723</td>\n",
       "      <td>707.056071</td>\n",
       "    </tr>\n",
       "    <tr>\n",
       "      <th>2</th>\n",
       "      <td>2023-11-27 18:22:22.580123</td>\n",
       "      <td>1500</td>\n",
       "      <td>0.146769</td>\n",
       "      <td>0</td>\n",
       "      <td>1594.1594</td>\n",
       "      <td>1594.1594</td>\n",
       "      <td>1594.1594</td>\n",
       "      <td>1594.1594</td>\n",
       "      <td>1594.1594</td>\n",
       "      <td>1594.1594</td>\n",
       "      <td>...</td>\n",
       "      <td>1593.1593</td>\n",
       "      <td>1593.1593</td>\n",
       "      <td>1593.1593</td>\n",
       "      <td>1593.1593</td>\n",
       "      <td>1593.1593</td>\n",
       "      <td>1593.1593</td>\n",
       "      <td>1593.1593</td>\n",
       "      <td>1593.1593</td>\n",
       "      <td>500.048923</td>\n",
       "      <td>707.072190</td>\n",
       "    </tr>\n",
       "    <tr>\n",
       "      <th>3</th>\n",
       "      <td>2023-11-27 18:23:20.619932</td>\n",
       "      <td>1500</td>\n",
       "      <td>0.372232</td>\n",
       "      <td>0</td>\n",
       "      <td>1592.1592</td>\n",
       "      <td>1592.1592</td>\n",
       "      <td>1592.1592</td>\n",
       "      <td>1592.1592</td>\n",
       "      <td>1592.1592</td>\n",
       "      <td>1592.1592</td>\n",
       "      <td>...</td>\n",
       "      <td>1592.1592</td>\n",
       "      <td>1592.1592</td>\n",
       "      <td>1592.1592</td>\n",
       "      <td>1592.1592</td>\n",
       "      <td>1591.1591</td>\n",
       "      <td>1592.1592</td>\n",
       "      <td>1591.1591</td>\n",
       "      <td>1592.1592</td>\n",
       "      <td>500.124077</td>\n",
       "      <td>707.019062</td>\n",
       "    </tr>\n",
       "    <tr>\n",
       "      <th>4</th>\n",
       "      <td>2023-11-27 18:25:27.777907</td>\n",
       "      <td>1500</td>\n",
       "      <td>0.326013</td>\n",
       "      <td>0</td>\n",
       "      <td>1593.1593</td>\n",
       "      <td>1593.1593</td>\n",
       "      <td>1593.1593</td>\n",
       "      <td>1593.1593</td>\n",
       "      <td>1593.1593</td>\n",
       "      <td>1593.1593</td>\n",
       "      <td>...</td>\n",
       "      <td>1592.1592</td>\n",
       "      <td>1592.1592</td>\n",
       "      <td>1592.1592</td>\n",
       "      <td>1592.1592</td>\n",
       "      <td>1592.1592</td>\n",
       "      <td>1592.1592</td>\n",
       "      <td>1592.1592</td>\n",
       "      <td>1592.1592</td>\n",
       "      <td>500.108671</td>\n",
       "      <td>707.029952</td>\n",
       "    </tr>\n",
       "  </tbody>\n",
       "</table>\n",
       "<p>5 rows × 1506 columns</p>\n",
       "</div>"
      ],
      "text/plain": [
       "                           tm   knt        ae  ae_cl        rv1         rv2  \\\n",
       "0  2023-11-27 18:19:18.865912  1500  0.314221      0  1593.1593   1593.1593   \n",
       "1    2023-11-27 18:20:15.4063  1500  0.215168      0  1592.1592   1592.1592   \n",
       "2  2023-11-27 18:22:22.580123  1500  0.146769      0  1594.1594   1594.1594   \n",
       "3  2023-11-27 18:23:20.619932  1500  0.372232      0  1592.1592   1592.1592   \n",
       "4  2023-11-27 18:25:27.777907  1500  0.326013      0  1593.1593   1593.1593   \n",
       "\n",
       "          rv3         rv4         rv5         rv6  ...      rv1493  \\\n",
       "0   1593.1593   1593.1593   1593.1593   1593.1593  ...   1593.1593   \n",
       "1   1592.1592   1592.1592   1592.1592   1592.1592  ...   1592.1592   \n",
       "2   1594.1594   1594.1594   1594.1594   1594.1594  ...   1593.1593   \n",
       "3   1592.1592   1592.1592   1592.1592   1592.1592  ...   1592.1592   \n",
       "4   1593.1593   1593.1593   1593.1593   1593.1593  ...   1592.1592   \n",
       "\n",
       "       rv1494      rv1495      rv1496      rv1497      rv1498      rv1499  \\\n",
       "0   1593.1593   1593.1593   1593.1593   1593.1593   1593.1593   1593.1593   \n",
       "1   1592.1592   1592.1592   1592.1592   1592.1592   1592.1592   1592.1592   \n",
       "2   1593.1593   1593.1593   1593.1593   1593.1593   1593.1593   1593.1593   \n",
       "3   1592.1592   1592.1592   1592.1592   1591.1591   1592.1592   1591.1591   \n",
       "4   1592.1592   1592.1592   1592.1592   1592.1592   1592.1592   1592.1592   \n",
       "\n",
       "       rv1500          mn          ds  \n",
       "0   1593.1593  500.104740  707.032730  \n",
       "1   1592.1592  500.071723  707.056071  \n",
       "2   1593.1593  500.048923  707.072190  \n",
       "3   1592.1592  500.124077  707.019062  \n",
       "4   1592.1592  500.108671  707.029952  \n",
       "\n",
       "[5 rows x 1506 columns]"
      ]
     },
     "execution_count": 12,
     "metadata": {},
     "output_type": "execute_result"
    }
   ],
   "source": [
    "#------------------------ Load and preprocess the data ------------------------\n",
    "\n",
    "# Split the rv column by comma into a list of Series\n",
    "split_series = dfTest['rv'].str.split(',', n=1499, expand=True).apply(pd.Series)\n",
    "\n",
    "# Concatenate the original DataFrame with the split Series\n",
    "dfTest = pd.concat([dfTest, split_series], axis=1)\n",
    "\n",
    "# Rename the split columns\n",
    "dfTest.rename(columns=dict(zip(split_series.columns, col_names)), inplace=True)\n",
    "\n",
    "dfTest['mn'] = dfTest.select_dtypes(include='number').mean(axis=1)\n",
    "dfTest['ds'] = dfTest.select_dtypes(include='number').std(axis=1)\n",
    "\n",
    "# Drop the original 'rv' column\n",
    "dfTest.drop('rv', axis=1, inplace=True)\n",
    "\n",
    "dfTest.head()"
   ]
  },
  {
   "cell_type": "code",
   "execution_count": 17,
   "metadata": {},
   "outputs": [],
   "source": [
    "new_data = dfTest.loc[:, 'rv1':'ds'].astype(float).values\n",
    "target_new_data = dfTest['ae_cl']"
   ]
  },
  {
   "cell_type": "code",
   "execution_count": 18,
   "metadata": {},
   "outputs": [],
   "source": [
    "# Standardize the input features\n",
    "new_data_scaled = scaler.fit_transform(new_data)"
   ]
  },
  {
   "cell_type": "code",
   "execution_count": 19,
   "metadata": {},
   "outputs": [
    {
     "name": "stdout",
     "output_type": "stream",
     "text": [
      "104/104 [==============================] - 0s 1ms/step\n"
     ]
    }
   ],
   "source": [
    "# Predict probabilities for each class\n",
    "new_data_pred_probabilities = model.predict(new_data_scaled)\n",
    "\n",
    "# Get the class with the highest probability for each sample\n",
    "new_data_pred = np.argmax(new_data_pred_probabilities, axis=1)"
   ]
  },
  {
   "cell_type": "code",
   "execution_count": 20,
   "metadata": {},
   "outputs": [
    {
     "data": {
      "image/png": "[encoded data removed]",
      "text/plain": [
       "<Figure size 640x480 with 1 Axes>"
      ]
     },
     "metadata": {},
     "output_type": "display_data"
    }
   ],
   "source": [
    "plt.hist([target_new_data, new_data_pred], label=['Actual', 'Predicted'])\n",
    "plt.legend()\n",
    "plt.show()"
   ]
  },
  {
   "cell_type": "markdown",
   "metadata": {},
   "source": [
    "# MLP Logistic Regression (Buon risultato)"
   ]
  },
  {
   "cell_type": "code",
   "execution_count": 1,
   "metadata": {},
   "outputs": [
    {
     "name": "stdout",
     "output_type": "stream",
     "text": [
      "WARNING:tensorflow:From c:\\Users\\esteo\\anaconda3\\lib\\site-packages\\keras\\src\\losses.py:2976: The name tf.losses.sparse_softmax_cross_entropy is deprecated. Please use tf.compat.v1.losses.sparse_softmax_cross_entropy instead.\n",
      "\n"
     ]
    }
   ],
   "source": [
    "import pandas as pd\n",
    "import matplotlib.pyplot as plt\n",
    "import numpy as np\n",
    "import tensorflow as tf\n",
    "from sklearn.model_selection import train_test_split, GridSearchCV\n",
    "from sklearn.neural_network import MLPRegressor\n",
    "from sklearn.metrics import make_scorer, mean_squared_error, r2_score\n",
    "from sklearn.impute import SimpleImputer\n",
    "from sklearn.preprocessing import StandardScaler\n",
    "from sklearn.pipeline import Pipeline\n",
    "from sklearn.base import BaseEstimator, RegressorMixin"
   ]
  },
  {
   "cell_type": "code",
   "execution_count": 3,
   "metadata": {},
   "outputs": [
    {
     "data": {
      "text/html": [
       "<div>\n",
       "<style scoped>\n",
       "    .dataframe tbody tr th:only-of-type {\n",
       "        vertical-align: middle;\n",
       "    }\n",
       "\n",
       "    .dataframe tbody tr th {\n",
       "        vertical-align: top;\n",
       "    }\n",
       "\n",
       "    .dataframe thead th {\n",
       "        text-align: right;\n",
       "    }\n",
       "</style>\n",
       "<table border=\"1\" class=\"dataframe\">\n",
       "  <thead>\n",
       "    <tr style=\"text-align: right;\">\n",
       "      <th></th>\n",
       "      <th>tm</th>\n",
       "      <th>knt</th>\n",
       "      <th>ae</th>\n",
       "      <th>ae_cl</th>\n",
       "      <th>rv</th>\n",
       "    </tr>\n",
       "  </thead>\n",
       "  <tbody>\n",
       "    <tr>\n",
       "      <th>0</th>\n",
       "      <td>2023-05-08 16:09:16.771572</td>\n",
       "      <td>1500</td>\n",
       "      <td>0.326013</td>\n",
       "      <td>0</td>\n",
       "      <td>3.6620999999999997, 3.6620999999999997, 3.6620...</td>\n",
       "    </tr>\n",
       "    <tr>\n",
       "      <th>1</th>\n",
       "      <td>2023-12-07 05:17:16.98583</td>\n",
       "      <td>1500</td>\n",
       "      <td>0.317388</td>\n",
       "      <td>0</td>\n",
       "      <td>9.7656, 9.7656, 9.7656, 9.7656, 9.7656, 9.7656...</td>\n",
       "    </tr>\n",
       "    <tr>\n",
       "      <th>2</th>\n",
       "      <td>2023-12-07 12:29:06.618496</td>\n",
       "      <td>1500</td>\n",
       "      <td>0.249031</td>\n",
       "      <td>0</td>\n",
       "      <td>13.427699999999998, 14.648399999999999, 13.427...</td>\n",
       "    </tr>\n",
       "    <tr>\n",
       "      <th>3</th>\n",
       "      <td>2023-12-08 01:46:33.934387</td>\n",
       "      <td>1500</td>\n",
       "      <td>0.339904</td>\n",
       "      <td>0</td>\n",
       "      <td>4.0004, 4.0004, 4.0004, 4.0004, 4.0004, 4.0004...</td>\n",
       "    </tr>\n",
       "    <tr>\n",
       "      <th>4</th>\n",
       "      <td>2023-12-08 01:46:35.315528</td>\n",
       "      <td>1500</td>\n",
       "      <td>0.264804</td>\n",
       "      <td>0</td>\n",
       "      <td>4.0004, 4.0004, 4.0004, 4.0004, 4.0004, 4.0004...</td>\n",
       "    </tr>\n",
       "  </tbody>\n",
       "</table>\n",
       "</div>"
      ],
      "text/plain": [
       "                           tm   knt        ae  ae_cl  \\\n",
       "0  2023-05-08 16:09:16.771572  1500  0.326013      0   \n",
       "1   2023-12-07 05:17:16.98583  1500  0.317388      0   \n",
       "2  2023-12-07 12:29:06.618496  1500  0.249031      0   \n",
       "3  2023-12-08 01:46:33.934387  1500  0.339904      0   \n",
       "4  2023-12-08 01:46:35.315528  1500  0.264804      0   \n",
       "\n",
       "                                                  rv  \n",
       "0  3.6620999999999997, 3.6620999999999997, 3.6620...  \n",
       "1  9.7656, 9.7656, 9.7656, 9.7656, 9.7656, 9.7656...  \n",
       "2  13.427699999999998, 14.648399999999999, 13.427...  \n",
       "3  4.0004, 4.0004, 4.0004, 4.0004, 4.0004, 4.0004...  \n",
       "4  4.0004, 4.0004, 4.0004, 4.0004, 4.0004, 4.0004...  "
      ]
     },
     "execution_count": 3,
     "metadata": {},
     "output_type": "execute_result"
    }
   ],
   "source": [
    "# Dati estrapolati dal db remoto di Giuliano in data 22/01/2024, solamente per le classi 0 e 1\n",
    "df1 = pd.read_csv('postgres_dati_aggiornati.csv')\n",
    "\n",
    "df2 = pd.read_csv('postgres_new_data.csv')\n",
    "\n",
    "dfTraining = pd.concat([df1, df2], ignore_index=True)\n",
    "dfTraining.head()"
   ]
  },
  {
   "cell_type": "code",
   "execution_count": 5,
   "metadata": {},
   "outputs": [
    {
     "name": "stderr",
     "output_type": "stream",
     "text": [
      "No artists with labels found to put in legend.  Note that artists whose label start with an underscore are ignored when legend() is called with no argument.\n"
     ]
    },
    {
     "data": {
      "image/png": "[encoded data removed]",
      "text/plain": [
       "<Figure size 640x480 with 1 Axes>"
      ]
     },
     "metadata": {},
     "output_type": "display_data"
    }
   ],
   "source": [
    "plt.scatter(dfTraining.index,dfTraining['ae'],s = 1)\n",
    "plt.legend()\n",
    "plt.show()"
   ]
  },
  {
   "cell_type": "code",
   "execution_count": 6,
   "metadata": {},
   "outputs": [],
   "source": [
    "#------------------------ Load and preprocess the data ------------------------\n",
    "\n",
    "# Generate the column names as rv1, rv2, ..., rv1500\n",
    "col_names = [f'rv{i}' for i in range(1, 1501)]\n",
    "\n",
    "# Split the rv column by comma into a list of Series\n",
    "split_series = dfTraining['rv'].str.split(',', n=1499, expand=True).apply(pd.Series)\n",
    "\n",
    "# Concatenate the original DataFrame with the split Series\n",
    "dfTraining = pd.concat([dfTraining, split_series], axis=1)\n",
    "\n",
    "# Rename the split columns\n",
    "dfTraining.rename(columns=dict(zip(split_series.columns, col_names)), inplace=True)\n",
    "\n",
    "dfTraining['mn'] = dfTraining.select_dtypes(include='number').mean(axis=1)\n",
    "dfTraining['ds'] = dfTraining.select_dtypes(include='number').std(axis=1)\n",
    "\n",
    "# Drop the original 'rv' column\n",
    "dfTraining.drop('rv', axis=1, inplace=True)"
   ]
  },
  {
   "cell_type": "code",
   "execution_count": 7,
   "metadata": {},
   "outputs": [],
   "source": [
    "X = dfTraining.loc[:, 'rv1':'ds'].astype(float).values\n",
    "y = dfTraining['ae']"
   ]
  },
  {
   "cell_type": "code",
   "execution_count": 8,
   "metadata": {},
   "outputs": [],
   "source": [
    "# Preprocessing steps\n",
    "# Impute missing values (if any)\n",
    "imputer = SimpleImputer(strategy='mean')\n",
    "X_imputed = imputer.fit_transform(X)\n",
    "\n",
    "# Scale features\n",
    "scaler = StandardScaler()\n",
    "X_scaled = scaler.fit_transform(X_imputed)"
   ]
  },
  {
   "cell_type": "code",
   "execution_count": 9,
   "metadata": {},
   "outputs": [],
   "source": [
    "# Split the preprocessed data into training and testing sets\n",
    "X_train, X_test, y_train, y_test = train_test_split(X_scaled, y, test_size=0.2, random_state=42)"
   ]
  },
  {
   "cell_type": "code",
   "execution_count": 10,
   "metadata": {},
   "outputs": [],
   "source": [
    "#result of gridSearch\n",
    "params = {'activation': 'logistic',      \n",
    " 'alpha': 0.01,\n",
    " 'hidden_layer_sizes': (200, 100, 50),\n",
    " 'learning_rate': 'invscaling',\n",
    " 'max_iter': 200}"
   ]
  },
  {
   "cell_type": "code",
   "execution_count": 11,
   "metadata": {},
   "outputs": [
    {
     "data": {
      "text/html": [
       "<style>#sk-container-id-1 {color: black;background-color: white;}#sk-container-id-1 pre{padding: 0;}#sk-container-id-1 div.sk-toggleable {background-color: white;}#sk-container-id-1 label.sk-toggleable__label {cursor: pointer;display: block;width: 100%;margin-bottom: 0;padding: 0.3em;box-sizing: border-box;text-align: center;}#sk-container-id-1 label.sk-toggleable__label-arrow:before {content: \"▸\";float: left;margin-right: 0.25em;color: #696969;}#sk-container-id-1 label.sk-toggleable__label-arrow:hover:before {color: black;}#sk-container-id-1 div.sk-estimator:hover label.sk-toggleable__label-arrow:before {color: black;}#sk-container-id-1 div.sk-toggleable__content {max-height: 0;max-width: 0;overflow: hidden;text-align: left;background-color: #f0f8ff;}#sk-container-id-1 div.sk-toggleable__content pre {margin: 0.2em;color: black;border-radius: 0.25em;background-color: #f0f8ff;}#sk-container-id-1 input.sk-toggleable__control:checked~div.sk-toggleable__content {max-height: 200px;max-width: 100%;overflow: auto;}#sk-container-id-1 input.sk-toggleable__control:checked~label.sk-toggleable__label-arrow:before {content: \"▾\";}#sk-container-id-1 div.sk-estimator input.sk-toggleable__control:checked~label.sk-toggleable__label {background-color: #d4ebff;}#sk-container-id-1 div.sk-label input.sk-toggleable__control:checked~label.sk-toggleable__label {background-color: #d4ebff;}#sk-container-id-1 input.sk-hidden--visually {border: 0;clip: rect(1px 1px 1px 1px);clip: rect(1px, 1px, 1px, 1px);height: 1px;margin: -1px;overflow: hidden;padding: 0;position: absolute;width: 1px;}#sk-container-id-1 div.sk-estimator {font-family: monospace;background-color: #f0f8ff;border: 1px dotted black;border-radius: 0.25em;box-sizing: border-box;margin-bottom: 0.5em;}#sk-container-id-1 div.sk-estimator:hover {background-color: #d4ebff;}#sk-container-id-1 div.sk-parallel-item::after {content: \"\";width: 100%;border-bottom: 1px solid gray;flex-grow: 1;}#sk-container-id-1 div.sk-label:hover label.sk-toggleable__label {background-color: #d4ebff;}#sk-container-id-1 div.sk-serial::before {content: \"\";position: absolute;border-left: 1px solid gray;box-sizing: border-box;top: 0;bottom: 0;left: 50%;z-index: 0;}#sk-container-id-1 div.sk-serial {display: flex;flex-direction: column;align-items: center;background-color: white;padding-right: 0.2em;padding-left: 0.2em;position: relative;}#sk-container-id-1 div.sk-item {position: relative;z-index: 1;}#sk-container-id-1 div.sk-parallel {display: flex;align-items: stretch;justify-content: center;background-color: white;position: relative;}#sk-container-id-1 div.sk-item::before, #sk-container-id-1 div.sk-parallel-item::before {content: \"\";position: absolute;border-left: 1px solid gray;box-sizing: border-box;top: 0;bottom: 0;left: 50%;z-index: -1;}#sk-container-id-1 div.sk-parallel-item {display: flex;flex-direction: column;z-index: 1;position: relative;background-color: white;}#sk-container-id-1 div.sk-parallel-item:first-child::after {align-self: flex-end;width: 50%;}#sk-container-id-1 div.sk-parallel-item:last-child::after {align-self: flex-start;width: 50%;}#sk-container-id-1 div.sk-parallel-item:only-child::after {width: 0;}#sk-container-id-1 div.sk-dashed-wrapped {border: 1px dashed gray;margin: 0 0.4em 0.5em 0.4em;box-sizing: border-box;padding-bottom: 0.4em;background-color: white;}#sk-container-id-1 div.sk-label label {font-family: monospace;font-weight: bold;display: inline-block;line-height: 1.2em;}#sk-container-id-1 div.sk-label-container {text-align: center;}#sk-container-id-1 div.sk-container {/* jupyter's `normalize.less` sets `[hidden] { display: none; }` but bootstrap.min.css set `[hidden] { display: none !important; }` so we also need the `!important` here to be able to override the default hidden behavior on the sphinx rendered scikit-learn.org. See: https://github.com/scikit-learn/scikit-learn/issues/21755 */display: inline-block !important;position: relative;}#sk-container-id-1 div.sk-text-repr-fallback {display: none;}</style><div id=\"sk-container-id-1\" class=\"sk-top-container\"><div class=\"sk-text-repr-fallback\"><pre>MLPRegressor(activation=&#x27;logistic&#x27;, alpha=0.01,\n",
       "             hidden_layer_sizes=(200, 100, 50), learning_rate=&#x27;invscaling&#x27;)</pre><b>In a Jupyter environment, please rerun this cell to show the HTML representation or trust the notebook. <br />On GitHub, the HTML representation is unable to render, please try loading this page with nbviewer.org.</b></div><div class=\"sk-container\" hidden><div class=\"sk-item\"><div class=\"sk-estimator sk-toggleable\"><input class=\"sk-toggleable__control sk-hidden--visually\" id=\"sk-estimator-id-1\" type=\"checkbox\" checked><label for=\"sk-estimator-id-1\" class=\"sk-toggleable__label sk-toggleable__label-arrow\">MLPRegressor</label><div class=\"sk-toggleable__content\"><pre>MLPRegressor(activation=&#x27;logistic&#x27;, alpha=0.01,\n",
       "             hidden_layer_sizes=(200, 100, 50), learning_rate=&#x27;invscaling&#x27;)</pre></div></div></div></div></div>"
      ],
      "text/plain": [
       "MLPRegressor(activation='logistic', alpha=0.01,\n",
       "             hidden_layer_sizes=(200, 100, 50), learning_rate='invscaling')"
      ]
     },
     "execution_count": 11,
     "metadata": {},
     "output_type": "execute_result"
    }
   ],
   "source": [
    "# Train the model with the best parameters\n",
    "best_model = MLPRegressor(**params)\n",
    "best_model.fit(X_train, y_train)"
   ]
  },
  {
   "cell_type": "code",
   "execution_count": 12,
   "metadata": {},
   "outputs": [],
   "source": [
    "# Make predictions on the test set\n",
    "predictions = best_model.predict(X_test)"
   ]
  },
  {
   "cell_type": "code",
   "execution_count": 13,
   "metadata": {},
   "outputs": [
    {
     "name": "stdout",
     "output_type": "stream",
     "text": [
      "Root Mean Squared Error on the test set: 0.0563952900189096\n",
      "R-squared on the test set: 0.9638340275252323\n"
     ]
    }
   ],
   "source": [
    "# Evaluate the model\n",
    "mse = mean_squared_error(y_test, predictions)\n",
    "rmse = np.sqrt(mse)\n",
    "r2 = r2_score(y_test, predictions)\n",
    "\n",
    "#print(f\"Best parameters: {best_params}\")\n",
    "print(f\"Root Mean Squared Error on the test set: {rmse}\")\n",
    "print(f\"R-squared on the test set: {r2}\")"
   ]
  },
  {
   "cell_type": "code",
   "execution_count": 14,
   "metadata": {},
   "outputs": [
    {
     "data": {
      "image/png": "[encoded data removed]",
      "text/plain": [
       "<Figure size 640x480 with 1 Axes>"
      ]
     },
     "metadata": {},
     "output_type": "display_data"
    }
   ],
   "source": [
    "plt.scatter( [n + 1 for n in range(len(y_test))], y_test,s = 1, marker = 'o', label = 'Actual')\n",
    "plt.scatter([n + 1 for n in range(len(predictions))],predictions,s = 1, marker = 's', label = 'Predicted')\n",
    "plt.legend()\n",
    "plt.show()"
   ]
  },
  {
   "cell_type": "code",
   "execution_count": 15,
   "metadata": {},
   "outputs": [],
   "source": [
    "dfTest = pd.read_csv('postgres_validation_data.csv')"
   ]
  },
  {
   "cell_type": "code",
   "execution_count": 16,
   "metadata": {},
   "outputs": [
    {
     "data": {
      "text/html": [
       "<div>\n",
       "<style scoped>\n",
       "    .dataframe tbody tr th:only-of-type {\n",
       "        vertical-align: middle;\n",
       "    }\n",
       "\n",
       "    .dataframe tbody tr th {\n",
       "        vertical-align: top;\n",
       "    }\n",
       "\n",
       "    .dataframe thead th {\n",
       "        text-align: right;\n",
       "    }\n",
       "</style>\n",
       "<table border=\"1\" class=\"dataframe\">\n",
       "  <thead>\n",
       "    <tr style=\"text-align: right;\">\n",
       "      <th></th>\n",
       "      <th>tm</th>\n",
       "      <th>knt</th>\n",
       "      <th>ae</th>\n",
       "      <th>ae_cl</th>\n",
       "      <th>rv1</th>\n",
       "      <th>rv2</th>\n",
       "      <th>rv3</th>\n",
       "      <th>rv4</th>\n",
       "      <th>rv5</th>\n",
       "      <th>rv6</th>\n",
       "      <th>...</th>\n",
       "      <th>rv1493</th>\n",
       "      <th>rv1494</th>\n",
       "      <th>rv1495</th>\n",
       "      <th>rv1496</th>\n",
       "      <th>rv1497</th>\n",
       "      <th>rv1498</th>\n",
       "      <th>rv1499</th>\n",
       "      <th>rv1500</th>\n",
       "      <th>mn</th>\n",
       "      <th>ds</th>\n",
       "    </tr>\n",
       "  </thead>\n",
       "  <tbody>\n",
       "    <tr>\n",
       "      <th>0</th>\n",
       "      <td>2024-01-24 01:32:11.3875</td>\n",
       "      <td>1500</td>\n",
       "      <td>0.181943</td>\n",
       "      <td>0</td>\n",
       "      <td>2.0002</td>\n",
       "      <td>1.0001</td>\n",
       "      <td>2.0002</td>\n",
       "      <td>2.0002</td>\n",
       "      <td>2.0002</td>\n",
       "      <td>2.0002</td>\n",
       "      <td>...</td>\n",
       "      <td>1.0001</td>\n",
       "      <td>2.0002</td>\n",
       "      <td>1.0001</td>\n",
       "      <td>2.0002</td>\n",
       "      <td>2.0002</td>\n",
       "      <td>2.0002</td>\n",
       "      <td>2.0002</td>\n",
       "      <td>2.0002</td>\n",
       "      <td>500.060648</td>\n",
       "      <td>707.063901</td>\n",
       "    </tr>\n",
       "    <tr>\n",
       "      <th>1</th>\n",
       "      <td>2024-01-24 08:51:04.308806</td>\n",
       "      <td>1500</td>\n",
       "      <td>0.433016</td>\n",
       "      <td>1</td>\n",
       "      <td>20.7519</td>\n",
       "      <td>20.7519</td>\n",
       "      <td>20.7519</td>\n",
       "      <td>20.7519</td>\n",
       "      <td>20.7519</td>\n",
       "      <td>20.7519</td>\n",
       "      <td>...</td>\n",
       "      <td>20.7519</td>\n",
       "      <td>20.7519</td>\n",
       "      <td>21.9726</td>\n",
       "      <td>20.7519</td>\n",
       "      <td>21.9726</td>\n",
       "      <td>20.7519</td>\n",
       "      <td>20.7519</td>\n",
       "      <td>20.7519</td>\n",
       "      <td>500.477672</td>\n",
       "      <td>706.769054</td>\n",
       "    </tr>\n",
       "    <tr>\n",
       "      <th>2</th>\n",
       "      <td>2024-01-24 06:37:46.622796</td>\n",
       "      <td>1500</td>\n",
       "      <td>0.532427</td>\n",
       "      <td>1</td>\n",
       "      <td>2.0002</td>\n",
       "      <td>2.0002</td>\n",
       "      <td>2.0002</td>\n",
       "      <td>2.0002</td>\n",
       "      <td>2.0002</td>\n",
       "      <td>2.0002</td>\n",
       "      <td>...</td>\n",
       "      <td>1.0001</td>\n",
       "      <td>2.0002</td>\n",
       "      <td>1.0001</td>\n",
       "      <td>2.0002</td>\n",
       "      <td>2.0002</td>\n",
       "      <td>1.0001</td>\n",
       "      <td>2.0002</td>\n",
       "      <td>2.0002</td>\n",
       "      <td>500.510809</td>\n",
       "      <td>706.745610</td>\n",
       "    </tr>\n",
       "    <tr>\n",
       "      <th>3</th>\n",
       "      <td>2024-01-24 03:50:26.77633</td>\n",
       "      <td>1500</td>\n",
       "      <td>0.535184</td>\n",
       "      <td>1</td>\n",
       "      <td>2.4414</td>\n",
       "      <td>2.4414</td>\n",
       "      <td>2.4414</td>\n",
       "      <td>2.4414</td>\n",
       "      <td>2.4414</td>\n",
       "      <td>2.4414</td>\n",
       "      <td>...</td>\n",
       "      <td>2.4414</td>\n",
       "      <td>2.4414</td>\n",
       "      <td>2.4414</td>\n",
       "      <td>2.4414</td>\n",
       "      <td>2.4414</td>\n",
       "      <td>1.2207</td>\n",
       "      <td>2.4414</td>\n",
       "      <td>2.4414</td>\n",
       "      <td>500.511728</td>\n",
       "      <td>706.744960</td>\n",
       "    </tr>\n",
       "    <tr>\n",
       "      <th>4</th>\n",
       "      <td>2024-01-23 23:25:37.865158</td>\n",
       "      <td>1500</td>\n",
       "      <td>0.460215</td>\n",
       "      <td>1</td>\n",
       "      <td>2.0002</td>\n",
       "      <td>2.0002</td>\n",
       "      <td>2.0002</td>\n",
       "      <td>2.0002</td>\n",
       "      <td>2.0002</td>\n",
       "      <td>2.0002</td>\n",
       "      <td>...</td>\n",
       "      <td>2.0002</td>\n",
       "      <td>2.0002</td>\n",
       "      <td>2.0002</td>\n",
       "      <td>2.0002</td>\n",
       "      <td>2.0002</td>\n",
       "      <td>2.0002</td>\n",
       "      <td>2.0002</td>\n",
       "      <td>2.0002</td>\n",
       "      <td>500.486738</td>\n",
       "      <td>706.762640</td>\n",
       "    </tr>\n",
       "  </tbody>\n",
       "</table>\n",
       "<p>5 rows × 1506 columns</p>\n",
       "</div>"
      ],
      "text/plain": [
       "                           tm   knt        ae  ae_cl      rv1       rv2  \\\n",
       "0    2024-01-24 01:32:11.3875  1500  0.181943      0   2.0002    1.0001   \n",
       "1  2024-01-24 08:51:04.308806  1500  0.433016      1  20.7519   20.7519   \n",
       "2  2024-01-24 06:37:46.622796  1500  0.532427      1   2.0002    2.0002   \n",
       "3   2024-01-24 03:50:26.77633  1500  0.535184      1   2.4414    2.4414   \n",
       "4  2024-01-23 23:25:37.865158  1500  0.460215      1   2.0002    2.0002   \n",
       "\n",
       "        rv3       rv4       rv5       rv6  ...    rv1493    rv1494    rv1495  \\\n",
       "0    2.0002    2.0002    2.0002    2.0002  ...    1.0001    2.0002    1.0001   \n",
       "1   20.7519   20.7519   20.7519   20.7519  ...   20.7519   20.7519   21.9726   \n",
       "2    2.0002    2.0002    2.0002    2.0002  ...    1.0001    2.0002    1.0001   \n",
       "3    2.4414    2.4414    2.4414    2.4414  ...    2.4414    2.4414    2.4414   \n",
       "4    2.0002    2.0002    2.0002    2.0002  ...    2.0002    2.0002    2.0002   \n",
       "\n",
       "     rv1496    rv1497    rv1498    rv1499    rv1500          mn          ds  \n",
       "0    2.0002    2.0002    2.0002    2.0002    2.0002  500.060648  707.063901  \n",
       "1   20.7519   21.9726   20.7519   20.7519   20.7519  500.477672  706.769054  \n",
       "2    2.0002    2.0002    1.0001    2.0002    2.0002  500.510809  706.745610  \n",
       "3    2.4414    2.4414    1.2207    2.4414    2.4414  500.511728  706.744960  \n",
       "4    2.0002    2.0002    2.0002    2.0002    2.0002  500.486738  706.762640  \n",
       "\n",
       "[5 rows x 1506 columns]"
      ]
     },
     "execution_count": 16,
     "metadata": {},
     "output_type": "execute_result"
    }
   ],
   "source": [
    "dfTest = pd.read_csv('postgres_validation_data.csv')\n",
    "#------------------------ Load and preprocess the data ------------------------\n",
    "\n",
    "# Split the rv column by comma into a list of Series\n",
    "split_series = dfTest['rv'].str.split(',', n=1499, expand=True).apply(pd.Series)\n",
    "\n",
    "# Concatenate the original DataFrame with the split Series\n",
    "dfTest = pd.concat([dfTest, split_series], axis=1)\n",
    "\n",
    "# Rename the split columns\n",
    "dfTest.rename(columns=dict(zip(split_series.columns, col_names)), inplace=True)\n",
    "\n",
    "dfTest['mn'] = dfTest.select_dtypes(include='number').mean(axis=1)\n",
    "dfTest['ds'] = dfTest.select_dtypes(include='number').std(axis=1)\n",
    "\n",
    "# Drop the original 'rv' column\n",
    "dfTest.drop('rv', axis=1, inplace=True)\n",
    "\n",
    "dfTest.head()"
   ]
  },
  {
   "cell_type": "code",
   "execution_count": 17,
   "metadata": {},
   "outputs": [],
   "source": [
    "new_data = dfTest.loc[:, 'rv1':'ds'].astype(float).values\n",
    "target_new_data = dfTest['ae']"
   ]
  },
  {
   "cell_type": "code",
   "execution_count": 18,
   "metadata": {},
   "outputs": [],
   "source": [
    "# Apply the same preprocessing steps to the new data\n",
    "new_data_imputed = imputer.transform(new_data)\n",
    "new_data_scaled = scaler.transform(new_data_imputed)"
   ]
  },
  {
   "cell_type": "code",
   "execution_count": 19,
   "metadata": {},
   "outputs": [],
   "source": [
    "# Use the trained model to make predictions on the new data\n",
    "new_data_predictions = best_model.predict(new_data_scaled)"
   ]
  },
  {
   "cell_type": "code",
   "execution_count": 20,
   "metadata": {},
   "outputs": [
    {
     "data": {
      "image/png": "[encoded data removed]",
      "text/plain": [
       "<Figure size 640x480 with 1 Axes>"
      ]
     },
     "metadata": {},
     "output_type": "display_data"
    }
   ],
   "source": [
    "plt.scatter( [n + 1 for n in range(len(target_new_data))], target_new_data,s = 5, marker = 'o', label = 'Actual')\n",
    "plt.scatter([n + 1 for n in range(len(new_data_predictions))],new_data_predictions,s = 5, marker = 's', label = 'Predicted')\n",
    "plt.legend()\n",
    "plt.show()"
   ]
  },
  {
   "cell_type": "markdown",
   "metadata": {},
   "source": [
    "# MLP Logistic Regression (TensorFlow) Da migliorare"
   ]
  },
  {
   "cell_type": "code",
   "execution_count": 1,
   "metadata": {},
   "outputs": [
    {
     "name": "stdout",
     "output_type": "stream",
     "text": [
      "WARNING:tensorflow:From c:\\Users\\esteo\\anaconda3\\envs\\ml\\lib\\site-packages\\keras\\src\\losses.py:2976: The name tf.losses.sparse_softmax_cross_entropy is deprecated. Please use tf.compat.v1.losses.sparse_softmax_cross_entropy instead.\n",
      "\n"
     ]
    }
   ],
   "source": [
    "import tensorflow as tf\n",
    "import numpy as np\n",
    "from sklearn.model_selection import train_test_split\n",
    "from sklearn.preprocessing import MinMaxScaler\n",
    "import pandas as pd\n",
    "import matplotlib.pyplot as plt\n",
    "from tensorflow.keras.layers import Dense, Dropout, BatchNormalization\n",
    "from tensorflow.keras.models import Sequential\n",
    "from sklearn.metrics import make_scorer, mean_squared_error, r2_score"
   ]
  },
  {
   "cell_type": "code",
   "execution_count": 2,
   "metadata": {},
   "outputs": [
    {
     "data": {
      "text/html": [
       "<div>\n",
       "<style scoped>\n",
       "    .dataframe tbody tr th:only-of-type {\n",
       "        vertical-align: middle;\n",
       "    }\n",
       "\n",
       "    .dataframe tbody tr th {\n",
       "        vertical-align: top;\n",
       "    }\n",
       "\n",
       "    .dataframe thead th {\n",
       "        text-align: right;\n",
       "    }\n",
       "</style>\n",
       "<table border=\"1\" class=\"dataframe\">\n",
       "  <thead>\n",
       "    <tr style=\"text-align: right;\">\n",
       "      <th></th>\n",
       "      <th>tm</th>\n",
       "      <th>knt</th>\n",
       "      <th>ae</th>\n",
       "      <th>ae_cl</th>\n",
       "      <th>rv</th>\n",
       "    </tr>\n",
       "  </thead>\n",
       "  <tbody>\n",
       "    <tr>\n",
       "      <th>0</th>\n",
       "      <td>2023-05-08 16:09:16.771572</td>\n",
       "      <td>1500</td>\n",
       "      <td>0.326013</td>\n",
       "      <td>0</td>\n",
       "      <td>3.6620999999999997, 3.6620999999999997, 3.6620...</td>\n",
       "    </tr>\n",
       "    <tr>\n",
       "      <th>1</th>\n",
       "      <td>2023-12-07 05:17:16.98583</td>\n",
       "      <td>1500</td>\n",
       "      <td>0.317388</td>\n",
       "      <td>0</td>\n",
       "      <td>9.7656, 9.7656, 9.7656, 9.7656, 9.7656, 9.7656...</td>\n",
       "    </tr>\n",
       "    <tr>\n",
       "      <th>2</th>\n",
       "      <td>2023-12-07 12:29:06.618496</td>\n",
       "      <td>1500</td>\n",
       "      <td>0.249031</td>\n",
       "      <td>0</td>\n",
       "      <td>13.427699999999998, 14.648399999999999, 13.427...</td>\n",
       "    </tr>\n",
       "    <tr>\n",
       "      <th>3</th>\n",
       "      <td>2023-12-08 01:46:33.934387</td>\n",
       "      <td>1500</td>\n",
       "      <td>0.339904</td>\n",
       "      <td>0</td>\n",
       "      <td>4.0004, 4.0004, 4.0004, 4.0004, 4.0004, 4.0004...</td>\n",
       "    </tr>\n",
       "    <tr>\n",
       "      <th>4</th>\n",
       "      <td>2023-12-08 01:46:35.315528</td>\n",
       "      <td>1500</td>\n",
       "      <td>0.264804</td>\n",
       "      <td>0</td>\n",
       "      <td>4.0004, 4.0004, 4.0004, 4.0004, 4.0004, 4.0004...</td>\n",
       "    </tr>\n",
       "  </tbody>\n",
       "</table>\n",
       "</div>"
      ],
      "text/plain": [
       "                           tm   knt        ae  ae_cl  \\\n",
       "0  2023-05-08 16:09:16.771572  1500  0.326013      0   \n",
       "1   2023-12-07 05:17:16.98583  1500  0.317388      0   \n",
       "2  2023-12-07 12:29:06.618496  1500  0.249031      0   \n",
       "3  2023-12-08 01:46:33.934387  1500  0.339904      0   \n",
       "4  2023-12-08 01:46:35.315528  1500  0.264804      0   \n",
       "\n",
       "                                                  rv  \n",
       "0  3.6620999999999997, 3.6620999999999997, 3.6620...  \n",
       "1  9.7656, 9.7656, 9.7656, 9.7656, 9.7656, 9.7656...  \n",
       "2  13.427699999999998, 14.648399999999999, 13.427...  \n",
       "3  4.0004, 4.0004, 4.0004, 4.0004, 4.0004, 4.0004...  \n",
       "4  4.0004, 4.0004, 4.0004, 4.0004, 4.0004, 4.0004...  "
      ]
     },
     "execution_count": 2,
     "metadata": {},
     "output_type": "execute_result"
    }
   ],
   "source": [
    "# Dati estrapolati dal db remoto di Giuliano in data 22/01/2024, solamente per le classi 0 e 1\n",
    "df1 = pd.read_csv('postgres_dati_aggiornati.csv')\n",
    "\n",
    "df2 = pd.read_csv('postgres_new_data.csv')\n",
    "\n",
    "dfTraining = pd.concat([df1, df2], ignore_index=True)\n",
    "dfTraining.head()"
   ]
  },
  {
   "cell_type": "code",
   "execution_count": 3,
   "metadata": {},
   "outputs": [
    {
     "name": "stderr",
     "output_type": "stream",
     "text": [
      "No artists with labels found to put in legend.  Note that artists whose label start with an underscore are ignored when legend() is called with no argument.\n"
     ]
    },
    {
     "data": {
      "image/png": "[encoded data removed]",
      "text/plain": [
       "<Figure size 640x480 with 1 Axes>"
      ]
     },
     "metadata": {},
     "output_type": "display_data"
    }
   ],
   "source": [
    "plt.scatter(dfTraining.index,dfTraining['ae'],s = 1)\n",
    "plt.legend()\n",
    "plt.show()"
   ]
  },
  {
   "cell_type": "code",
   "execution_count": 4,
   "metadata": {},
   "outputs": [],
   "source": [
    "#------------------------ Load and preprocess the data ------------------------\n",
    "\n",
    "# Generate the column names as rv1, rv2, ..., rv1500\n",
    "col_names = [f'rv{i}' for i in range(1, 1501)]\n",
    "\n",
    "# Split the rv column by comma into a list of Series\n",
    "split_series = dfTraining['rv'].str.split(',', n=1499, expand=True).apply(pd.Series)\n",
    "\n",
    "# Concatenate the original DataFrame with the split Series\n",
    "dfTraining = pd.concat([dfTraining, split_series], axis=1)\n",
    "\n",
    "# Rename the split columns\n",
    "dfTraining.rename(columns=dict(zip(split_series.columns, col_names)), inplace=True)\n",
    "\n",
    "dfTraining['mn'] = dfTraining.select_dtypes(include='number').mean(axis=1)\n",
    "dfTraining['ds'] = dfTraining.select_dtypes(include='number').std(axis=1)\n",
    "\n",
    "# Drop the original 'rv' column\n",
    "dfTraining.drop('rv', axis=1, inplace=True)"
   ]
  },
  {
   "cell_type": "code",
   "execution_count": 5,
   "metadata": {},
   "outputs": [],
   "source": [
    "X = dfTraining.loc[:, 'rv1':'ds'].astype(float).values\n",
    "y = dfTraining['ae']\n",
    "\n",
    "# Scale features\n",
    "scaler = MinMaxScaler()\n",
    "X_scaled = scaler.fit_transform(X)\n",
    "\n",
    "# Split the preprocessed data into training and testing sets\n",
    "X_train, X_test, y_train, y_test = train_test_split(X_scaled, y, test_size=0.2, random_state=42)"
   ]
  },
  {
   "cell_type": "code",
   "execution_count": 238,
   "metadata": {},
   "outputs": [],
   "source": [
    "# Define the model\n",
    "model = Sequential()\n",
    "model.add(Dense(64, input_dim=1502, activation='relu'))\n",
    "model.add(Dense(32, activation='relu'))\n",
    "model.add(Dense(16, activation='relu'))\n",
    "model.add(Dense(8, activation='relu'))\n",
    "model.add(Dense(1, activation='sigmoid'))"
   ]
  },
  {
   "cell_type": "code",
   "execution_count": 239,
   "metadata": {},
   "outputs": [],
   "source": [
    "# Compile the model with mean squared error as the loss\n",
    "model.compile(optimizer='adam', loss='mean_squared_error', metrics=['mae'])"
   ]
  },
  {
   "cell_type": "code",
   "execution_count": 240,
   "metadata": {},
   "outputs": [
    {
     "name": "stdout",
     "output_type": "stream",
     "text": [
      "Epoch 1/50\n",
      "497/497 [==============================] - 1s 2ms/step - loss: 0.0143 - mae: 0.0805\n",
      "Epoch 2/50\n",
      "497/497 [==============================] - 1s 2ms/step - loss: 0.0054 - mae: 0.0546\n",
      "Epoch 3/50\n",
      "497/497 [==============================] - 1s 2ms/step - loss: 0.0035 - mae: 0.0452\n",
      "Epoch 4/50\n",
      "497/497 [==============================] - 2s 3ms/step - loss: 0.0024 - mae: 0.0364\n",
      "Epoch 5/50\n",
      "497/497 [==============================] - 2s 4ms/step - loss: 0.0019 - mae: 0.0310\n",
      "Epoch 6/50\n",
      "497/497 [==============================] - 3s 6ms/step - loss: 0.0019 - mae: 0.0298\n",
      "Epoch 7/50\n",
      "497/497 [==============================] - 1s 3ms/step - loss: 0.0019 - mae: 0.0289\n",
      "Epoch 8/50\n",
      "497/497 [==============================] - 1s 3ms/step - loss: 0.0019 - mae: 0.0290\n",
      "Epoch 9/50\n",
      "497/497 [==============================] - 1s 2ms/step - loss: 0.0020 - mae: 0.0291\n",
      "Epoch 10/50\n",
      "497/497 [==============================] - 1s 3ms/step - loss: 0.0016 - mae: 0.0265\n",
      "Epoch 11/50\n",
      "497/497 [==============================] - 2s 4ms/step - loss: 0.0015 - mae: 0.0248\n",
      "Epoch 12/50\n",
      "497/497 [==============================] - 2s 4ms/step - loss: 0.0017 - mae: 0.0258\n",
      "Epoch 13/50\n",
      "497/497 [==============================] - 2s 3ms/step - loss: 0.0014 - mae: 0.0241\n",
      "Epoch 14/50\n",
      "497/497 [==============================] - 3s 6ms/step - loss: 0.0014 - mae: 0.0235\n",
      "Epoch 15/50\n",
      "497/497 [==============================] - 2s 4ms/step - loss: 0.0012 - mae: 0.0218\n",
      "Epoch 16/50\n",
      "497/497 [==============================] - 2s 4ms/step - loss: 0.0013 - mae: 0.0218\n",
      "Epoch 17/50\n",
      "497/497 [==============================] - 2s 4ms/step - loss: 0.0011 - mae: 0.0207\n",
      "Epoch 18/50\n",
      "497/497 [==============================] - 2s 4ms/step - loss: 0.0010 - mae: 0.0188\n",
      "Epoch 19/50\n",
      "497/497 [==============================] - 2s 4ms/step - loss: 0.0011 - mae: 0.0191\n",
      "Epoch 20/50\n",
      "497/497 [==============================] - 2s 4ms/step - loss: 9.3940e-04 - mae: 0.0169\n",
      "Epoch 21/50\n",
      "497/497 [==============================] - 2s 4ms/step - loss: 9.8079e-04 - mae: 0.0180\n",
      "Epoch 22/50\n",
      "497/497 [==============================] - 3s 6ms/step - loss: 9.4609e-04 - mae: 0.0173\n",
      "Epoch 23/50\n",
      "497/497 [==============================] - 2s 4ms/step - loss: 7.7410e-04 - mae: 0.0153\n",
      "Epoch 24/50\n",
      "497/497 [==============================] - 2s 4ms/step - loss: 7.3505e-04 - mae: 0.0152\n",
      "Epoch 25/50\n",
      "497/497 [==============================] - 2s 5ms/step - loss: 9.1686e-04 - mae: 0.0170\n",
      "Epoch 26/50\n",
      "497/497 [==============================] - 2s 3ms/step - loss: 8.0259e-04 - mae: 0.0154\n",
      "Epoch 27/50\n",
      "497/497 [==============================] - 2s 5ms/step - loss: 7.9259e-04 - mae: 0.0152\n",
      "Epoch 28/50\n",
      "497/497 [==============================] - 2s 5ms/step - loss: 7.6763e-04 - mae: 0.0151\n",
      "Epoch 29/50\n",
      "497/497 [==============================] - 2s 4ms/step - loss: 7.1609e-04 - mae: 0.0151\n",
      "Epoch 30/50\n",
      "497/497 [==============================] - 2s 4ms/step - loss: 5.7492e-04 - mae: 0.0130\n",
      "Epoch 31/50\n",
      "497/497 [==============================] - 2s 4ms/step - loss: 7.5897e-04 - mae: 0.0152\n",
      "Epoch 32/50\n",
      "497/497 [==============================] - 2s 4ms/step - loss: 7.2373e-04 - mae: 0.0141\n",
      "Epoch 33/50\n",
      "497/497 [==============================] - 3s 6ms/step - loss: 6.3189e-04 - mae: 0.0132\n",
      "Epoch 34/50\n",
      "497/497 [==============================] - 2s 4ms/step - loss: 6.8882e-04 - mae: 0.0139\n",
      "Epoch 35/50\n",
      "497/497 [==============================] - 2s 4ms/step - loss: 6.5232e-04 - mae: 0.0135\n",
      "Epoch 36/50\n",
      "497/497 [==============================] - 2s 5ms/step - loss: 3.7951e-04 - mae: 0.0105\n",
      "Epoch 37/50\n",
      "497/497 [==============================] - 2s 4ms/step - loss: 5.9717e-04 - mae: 0.0129\n",
      "Epoch 38/50\n",
      "497/497 [==============================] - 3s 6ms/step - loss: 7.2563e-04 - mae: 0.0139\n",
      "Epoch 39/50\n",
      "497/497 [==============================] - 2s 4ms/step - loss: 4.5153e-04 - mae: 0.0111\n",
      "Epoch 40/50\n",
      "497/497 [==============================] - 2s 3ms/step - loss: 3.8217e-04 - mae: 0.0103\n",
      "Epoch 41/50\n",
      "497/497 [==============================] - 2s 4ms/step - loss: 3.8742e-04 - mae: 0.0101\n",
      "Epoch 42/50\n",
      "497/497 [==============================] - 2s 4ms/step - loss: 4.6284e-04 - mae: 0.0109\n",
      "Epoch 43/50\n",
      "497/497 [==============================] - 2s 4ms/step - loss: 7.4692e-04 - mae: 0.0148\n",
      "Epoch 44/50\n",
      "497/497 [==============================] - 2s 4ms/step - loss: 3.1906e-04 - mae: 0.0094\n",
      "Epoch 45/50\n",
      "497/497 [==============================] - 2s 4ms/step - loss: 4.0879e-04 - mae: 0.0101\n",
      "Epoch 46/50\n",
      "497/497 [==============================] - 3s 5ms/step - loss: 4.1129e-04 - mae: 0.0105\n",
      "Epoch 47/50\n",
      "497/497 [==============================] - 3s 6ms/step - loss: 6.5517e-04 - mae: 0.0137\n",
      "Epoch 48/50\n",
      "497/497 [==============================] - 3s 5ms/step - loss: 4.0888e-04 - mae: 0.0108\n",
      "Epoch 49/50\n",
      "497/497 [==============================] - 3s 5ms/step - loss: 4.1730e-04 - mae: 0.0105\n",
      "Epoch 50/50\n",
      "497/497 [==============================] - 3s 6ms/step - loss: 3.1877e-04 - mae: 0.0095\n"
     ]
    }
   ],
   "source": [
    "# Train the model\n",
    "history = model.fit(X_train, y_train, epochs=50, batch_size=16)"
   ]
  },
  {
   "cell_type": "code",
   "execution_count": 241,
   "metadata": {},
   "outputs": [
    {
     "name": "stdout",
     "output_type": "stream",
     "text": [
      "63/63 [==============================] - 0s 1ms/step\n"
     ]
    }
   ],
   "source": [
    "predictions = model.predict(X_test)"
   ]
  },
  {
   "cell_type": "code",
   "execution_count": 242,
   "metadata": {},
   "outputs": [
    {
     "name": "stdout",
     "output_type": "stream",
     "text": [
      "Root Mean Squared Error on the test set: 0.014968739587387522\n",
      "R-squared on the test set: 0.99745208494707\n"
     ]
    }
   ],
   "source": [
    "# Evaluate the model\n",
    "mse = mean_squared_error(y_test, predictions)\n",
    "rmse = np.sqrt(mse)\n",
    "r2 = r2_score(y_test, predictions)\n",
    "\n",
    "#print(f\"Best parameters: {best_params}\")\n",
    "print(f\"Root Mean Squared Error on the test set: {rmse}\")\n",
    "print(f\"R-squared on the test set: {r2}\")"
   ]
  },
  {
   "cell_type": "code",
   "execution_count": 243,
   "metadata": {},
   "outputs": [
    {
     "data": {
      "image/png": "[encoded data removed]",
      "text/plain": [
       "<Figure size 640x480 with 1 Axes>"
      ]
     },
     "metadata": {},
     "output_type": "display_data"
    }
   ],
   "source": [
    "plt.scatter( [n + 1 for n in range(len(y_test))], y_test,s = 1, marker = 'o', label = 'Actual')\n",
    "plt.scatter([n + 1 for n in range(len(predictions))],predictions,s = 1, marker = 's', label = 'Predicted')\n",
    "plt.legend()\n",
    "plt.show()"
   ]
  },
  {
   "cell_type": "code",
   "execution_count": 244,
   "metadata": {},
   "outputs": [],
   "source": [
    "dfTest = pd.read_csv('postgres_validation_data.csv')\n",
    "#------------------------ Load and preprocess the data ------------------------\n",
    "\n",
    "# Split the rv column by comma into a list of Series\n",
    "split_series = dfTest['rv'].str.split(',', n=1499, expand=True).apply(pd.Series)\n",
    "\n",
    "# Concatenate the original DataFrame with the split Series\n",
    "dfTest = pd.concat([dfTest, split_series], axis=1)\n",
    "\n",
    "# Rename the split columns\n",
    "dfTest.rename(columns=dict(zip(split_series.columns, col_names)), inplace=True)\n",
    "\n",
    "dfTest['mn'] = dfTest.select_dtypes(include='number').mean(axis=1)\n",
    "dfTest['ds'] = dfTest.select_dtypes(include='number').std(axis=1)\n",
    "\n",
    "# Drop the original 'rv' column\n",
    "dfTest.drop('rv', axis=1, inplace=True)\n",
    "\n",
    "new_data = dfTest.loc[:, 'rv1':'ds'].astype(float).values\n",
    "target_new_data = dfTest['ae']"
   ]
  },
  {
   "cell_type": "code",
   "execution_count": 245,
   "metadata": {},
   "outputs": [],
   "source": [
    "new_data = scaler.fit_transform(new_data)"
   ]
  },
  {
   "cell_type": "code",
   "execution_count": 246,
   "metadata": {},
   "outputs": [
    {
     "name": "stdout",
     "output_type": "stream",
     "text": [
      "4/4 [==============================] - 0s 3ms/step\n"
     ]
    }
   ],
   "source": [
    "new_data_predictions = model.predict(new_data)"
   ]
  },
  {
   "cell_type": "code",
   "execution_count": 247,
   "metadata": {},
   "outputs": [
    {
     "data": {
      "image/png": "[encoded data removed]",
      "text/plain": [
       "<Figure size 640x480 with 1 Axes>"
      ]
     },
     "metadata": {},
     "output_type": "display_data"
    }
   ],
   "source": [
    "plt.scatter( [n + 1 for n in range(len(target_new_data))], target_new_data,s = 5, marker = 'o', label = 'Actual')\n",
    "plt.scatter([n + 1 for n in range(len(new_data_predictions))],new_data_predictions,s = 5, marker = 's', label = 'Predicted')\n",
    "plt.legend()\n",
    "plt.show()"
   ]
  },
  {
   "cell_type": "code",
   "execution_count": 253,
   "metadata": {},
   "outputs": [
    {
     "name": "stdout",
     "output_type": "stream",
     "text": [
      "       Actual  Prediction\n",
      "0    0.181943    0.079090\n",
      "1    0.433016    0.484522\n",
      "2    0.532427    0.458089\n",
      "3    0.535184    0.463983\n",
      "4    0.460215    0.405972\n",
      "..        ...         ...\n",
      "106  0.929436    0.940112\n",
      "107  0.929436    0.940112\n",
      "108  0.843069    0.897943\n",
      "109  0.929436    0.933106\n",
      "110  0.979020    0.961130\n",
      "\n",
      "[111 rows x 2 columns]\n"
     ]
    }
   ],
   "source": [
    "# Create and print new df with actual and predicted value for test set\n",
    "df = pd.DataFrame()\n",
    "df[\"Actual\"] = target_new_data\n",
    "df[\"Prediction\"] = new_data_predictions\n",
    "print(df)\n",
    "\n",
    "# Save the dataframe to a CSV file\n",
    "df.to_csv('predictions_ae_tensorflow.csv', index=False)\n"
   ]
  }
 ],
 "metadata": {
  "kernelspec": {
   "display_name": "base",
   "language": "python",
   "name": "python3"
  },
  "language_info": {
   "codemirror_mode": {
    "name": "ipython",
    "version": 3
   },
   "file_extension": ".py",
   "mimetype": "text/x-python",
   "name": "python",
   "nbconvert_exporter": "python",
   "pygments_lexer": "ipython3",
   "version": "3.10.13"
  }
 },
 "nbformat": 4,
 "nbformat_minor": 2
}
