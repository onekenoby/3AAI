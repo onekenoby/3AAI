{
 "cells": [
  {
   "cell_type": "code",
   "execution_count": 28,
   "metadata": {},
   "outputs": [],
   "source": [
    "import pandas as pd\n",
    "import matplotlib.pyplot as plt"
   ]
  },
  {
   "cell_type": "code",
   "execution_count": 32,
   "metadata": {},
   "outputs": [],
   "source": [
    "# Dati estrapolati dal db remoto di Giuliano in data 19/01/2024, solamente per le classi 0 e 1\n",
    "df1 = pd.read_csv('postgres_dati_aggiornati.csv')\n",
    "\n",
    "df2 = pd.read_csv('postgres_new_data.csv')\n",
    "\n",
    "df = pd.concat([df1, df2], ignore_index=True)"
   ]
  },
  {
   "cell_type": "code",
   "execution_count": 33,
   "metadata": {},
   "outputs": [
    {
     "data": {
      "text/html": [
       "<div>\n",
       "<style scoped>\n",
       "    .dataframe tbody tr th:only-of-type {\n",
       "        vertical-align: middle;\n",
       "    }\n",
       "\n",
       "    .dataframe tbody tr th {\n",
       "        vertical-align: top;\n",
       "    }\n",
       "\n",
       "    .dataframe thead th {\n",
       "        text-align: right;\n",
       "    }\n",
       "</style>\n",
       "<table border=\"1\" class=\"dataframe\">\n",
       "  <thead>\n",
       "    <tr style=\"text-align: right;\">\n",
       "      <th></th>\n",
       "      <th>tm</th>\n",
       "      <th>knt</th>\n",
       "      <th>ae</th>\n",
       "      <th>ae_cl</th>\n",
       "      <th>rv</th>\n",
       "    </tr>\n",
       "  </thead>\n",
       "  <tbody>\n",
       "    <tr>\n",
       "      <th>0</th>\n",
       "      <td>2023-05-08 16:09:16.771572</td>\n",
       "      <td>1500</td>\n",
       "      <td>0.326013</td>\n",
       "      <td>0</td>\n",
       "      <td>3.6620999999999997, 3.6620999999999997, 3.6620...</td>\n",
       "    </tr>\n",
       "    <tr>\n",
       "      <th>1</th>\n",
       "      <td>2023-12-07 05:17:16.98583</td>\n",
       "      <td>1500</td>\n",
       "      <td>0.317388</td>\n",
       "      <td>0</td>\n",
       "      <td>9.7656, 9.7656, 9.7656, 9.7656, 9.7656, 9.7656...</td>\n",
       "    </tr>\n",
       "    <tr>\n",
       "      <th>2</th>\n",
       "      <td>2023-12-07 12:29:06.618496</td>\n",
       "      <td>1500</td>\n",
       "      <td>0.249031</td>\n",
       "      <td>0</td>\n",
       "      <td>13.427699999999998, 14.648399999999999, 13.427...</td>\n",
       "    </tr>\n",
       "    <tr>\n",
       "      <th>3</th>\n",
       "      <td>2023-12-08 01:46:33.934387</td>\n",
       "      <td>1500</td>\n",
       "      <td>0.339904</td>\n",
       "      <td>0</td>\n",
       "      <td>4.0004, 4.0004, 4.0004, 4.0004, 4.0004, 4.0004...</td>\n",
       "    </tr>\n",
       "    <tr>\n",
       "      <th>4</th>\n",
       "      <td>2023-12-08 01:46:35.315528</td>\n",
       "      <td>1500</td>\n",
       "      <td>0.264804</td>\n",
       "      <td>0</td>\n",
       "      <td>4.0004, 4.0004, 4.0004, 4.0004, 4.0004, 4.0004...</td>\n",
       "    </tr>\n",
       "    <tr>\n",
       "      <th>...</th>\n",
       "      <td>...</td>\n",
       "      <td>...</td>\n",
       "      <td>...</td>\n",
       "      <td>...</td>\n",
       "      <td>...</td>\n",
       "    </tr>\n",
       "    <tr>\n",
       "      <th>9927</th>\n",
       "      <td>2022-09-20 04:13:03.46475</td>\n",
       "      <td>1500</td>\n",
       "      <td>0.980339</td>\n",
       "      <td>2</td>\n",
       "      <td>27.0027, 26.0026, 26.0026, 27.0027, 27.0027, 2...</td>\n",
       "    </tr>\n",
       "    <tr>\n",
       "      <th>9928</th>\n",
       "      <td>2022-09-20 04:16:08.638387</td>\n",
       "      <td>1500</td>\n",
       "      <td>0.979374</td>\n",
       "      <td>2</td>\n",
       "      <td>27.0027, 27.0027, 27.0027, 27.0027, 27.0027, 2...</td>\n",
       "    </tr>\n",
       "    <tr>\n",
       "      <th>9929</th>\n",
       "      <td>2022-09-20 04:19:13.815312</td>\n",
       "      <td>1500</td>\n",
       "      <td>0.991370</td>\n",
       "      <td>2</td>\n",
       "      <td>27.0027, 27.0027, 26.0026, 27.0027, 27.0027, 2...</td>\n",
       "    </tr>\n",
       "    <tr>\n",
       "      <th>9930</th>\n",
       "      <td>2022-09-20 04:22:18.995324</td>\n",
       "      <td>1500</td>\n",
       "      <td>0.967481</td>\n",
       "      <td>2</td>\n",
       "      <td>27.0027, 27.0027, 27.0027, 27.0027, 27.0027, 2...</td>\n",
       "    </tr>\n",
       "    <tr>\n",
       "      <th>9931</th>\n",
       "      <td>2022-09-20 04:25:24.1712</td>\n",
       "      <td>1500</td>\n",
       "      <td>0.988836</td>\n",
       "      <td>2</td>\n",
       "      <td>27.0027, 27.0027, 27.0027, 27.0027, 27.0027, 2...</td>\n",
       "    </tr>\n",
       "  </tbody>\n",
       "</table>\n",
       "<p>9932 rows × 5 columns</p>\n",
       "</div>"
      ],
      "text/plain": [
       "                              tm   knt        ae  ae_cl  \\\n",
       "0     2023-05-08 16:09:16.771572  1500  0.326013      0   \n",
       "1      2023-12-07 05:17:16.98583  1500  0.317388      0   \n",
       "2     2023-12-07 12:29:06.618496  1500  0.249031      0   \n",
       "3     2023-12-08 01:46:33.934387  1500  0.339904      0   \n",
       "4     2023-12-08 01:46:35.315528  1500  0.264804      0   \n",
       "...                          ...   ...       ...    ...   \n",
       "9927   2022-09-20 04:13:03.46475  1500  0.980339      2   \n",
       "9928  2022-09-20 04:16:08.638387  1500  0.979374      2   \n",
       "9929  2022-09-20 04:19:13.815312  1500  0.991370      2   \n",
       "9930  2022-09-20 04:22:18.995324  1500  0.967481      2   \n",
       "9931    2022-09-20 04:25:24.1712  1500  0.988836      2   \n",
       "\n",
       "                                                     rv  \n",
       "0     3.6620999999999997, 3.6620999999999997, 3.6620...  \n",
       "1     9.7656, 9.7656, 9.7656, 9.7656, 9.7656, 9.7656...  \n",
       "2     13.427699999999998, 14.648399999999999, 13.427...  \n",
       "3     4.0004, 4.0004, 4.0004, 4.0004, 4.0004, 4.0004...  \n",
       "4     4.0004, 4.0004, 4.0004, 4.0004, 4.0004, 4.0004...  \n",
       "...                                                 ...  \n",
       "9927  27.0027, 26.0026, 26.0026, 27.0027, 27.0027, 2...  \n",
       "9928  27.0027, 27.0027, 27.0027, 27.0027, 27.0027, 2...  \n",
       "9929  27.0027, 27.0027, 26.0026, 27.0027, 27.0027, 2...  \n",
       "9930  27.0027, 27.0027, 27.0027, 27.0027, 27.0027, 2...  \n",
       "9931  27.0027, 27.0027, 27.0027, 27.0027, 27.0027, 2...  \n",
       "\n",
       "[9932 rows x 5 columns]"
      ]
     },
     "execution_count": 33,
     "metadata": {},
     "output_type": "execute_result"
    }
   ],
   "source": [
    "df"
   ]
  },
  {
   "cell_type": "code",
   "execution_count": 34,
   "metadata": {},
   "outputs": [],
   "source": [
    "import numpy as np"
   ]
  },
  {
   "cell_type": "code",
   "execution_count": 49,
   "metadata": {},
   "outputs": [],
   "source": [
    "dfTraining = pd.concat(\n",
    "    [\n",
    "        np.array_split(df[df.ae_cl == 0], 3)[0],\n",
    "        np.array_split(df[df.ae_cl == 0], 3)[1],\n",
    "        np.array_split(df[df.ae_cl == 1], 3)[0],\n",
    "        np.array_split(df[df.ae_cl == 1], 3)[1],        \n",
    "        np.array_split(df[df.ae_cl == 2], 3)[0],\n",
    "        np.array_split(df[df.ae_cl == 2], 3)[1]\n",
    "    ],\n",
    "    ignore_index=True\n",
    ")\n",
    "\n",
    "\n",
    "dfTest = pd.concat(\n",
    "    [\n",
    "        np.array_split(df[df.ae_cl == 0], 3)[2],\n",
    "        np.array_split(df[df.ae_cl == 1], 3)[2],\n",
    "        np.array_split(df[df.ae_cl == 2], 3)[2]\n",
    "    ],\n",
    "    ignore_index=True\n",
    ")"
   ]
  },
  {
   "cell_type": "code",
   "execution_count": 36,
   "metadata": {},
   "outputs": [
    {
     "name": "stderr",
     "output_type": "stream",
     "text": [
      "No artists with labels found to put in legend.  Note that artists whose label start with an underscore are ignored when legend() is called with no argument.\n"
     ]
    },
    {
     "data": {
      "image/png": "[encoded data removed]",
      "text/plain": [
       "<Figure size 640x480 with 1 Axes>"
      ]
     },
     "metadata": {},
     "output_type": "display_data"
    }
   ],
   "source": [
    "plt.hist([df['ae_cl']])\n",
    "plt.legend()\n",
    "plt.show()"
   ]
  },
  {
   "cell_type": "code",
   "execution_count": 37,
   "metadata": {},
   "outputs": [],
   "source": [
    "import numpy as np\n",
    "import tensorflow as tf\n",
    "from sklearn.model_selection import train_test_split, GridSearchCV\n",
    "from sklearn.neural_network import MLPRegressor\n",
    "from sklearn.metrics import make_scorer, mean_squared_error, r2_score\n",
    "from sklearn.impute import SimpleImputer\n",
    "from sklearn.preprocessing import StandardScaler\n",
    "from sklearn.pipeline import Pipeline\n",
    "from sklearn.base import BaseEstimator, RegressorMixin"
   ]
  },
  {
   "cell_type": "code",
   "execution_count": 38,
   "metadata": {},
   "outputs": [],
   "source": [
    "#------------------------ Load and preprocess the data ------------------------\n",
    "\n",
    "# Generate the column names as rv1, rv2, ..., rv1500\n",
    "col_names = [f'rv{i}' for i in range(1, 1501)]\n",
    "\n",
    "# Split the rv column by comma into a list of Series\n",
    "split_series = dfTraining['rv'].str.split(',', n=1499, expand=True).apply(pd.Series)\n",
    "\n",
    "# Concatenate the original DataFrame with the split Series\n",
    "dfTraining = pd.concat([dfTraining, split_series], axis=1)\n",
    "\n",
    "# Rename the split columns\n",
    "dfTraining.rename(columns=dict(zip(split_series.columns, col_names)), inplace=True)\n",
    "\n",
    "dfTraining['mn'] = dfTraining.select_dtypes(include='number').mean(axis=1)\n",
    "dfTraining['ds'] = dfTraining.select_dtypes(include='number').std(axis=1)\n",
    "\n",
    "# Drop the original 'rv' column\n",
    "dfTraining.drop('rv', axis=1, inplace=True)"
   ]
  },
  {
   "cell_type": "code",
   "execution_count": 39,
   "metadata": {},
   "outputs": [],
   "source": [
    "X = dfTraining.loc[:, 'rv1':'ds'].astype(float).values\n",
    "y = dfTraining['ae_cl']"
   ]
  },
  {
   "cell_type": "code",
   "execution_count": 40,
   "metadata": {},
   "outputs": [],
   "source": [
    "# Preprocessing steps\n",
    "# Impute missing values (if any)\n",
    "imputer = SimpleImputer(strategy='mean')\n",
    "X_imputed = imputer.fit_transform(X)\n",
    "\n",
    "# Scale features\n",
    "scaler = StandardScaler()\n",
    "X_scaled = scaler.fit_transform(X_imputed)\n"
   ]
  },
  {
   "cell_type": "code",
   "execution_count": 41,
   "metadata": {},
   "outputs": [],
   "source": [
    "# Split the preprocessed data into training and testing sets\n",
    "X_train, X_test, y_train, y_test = train_test_split(X_scaled, y, test_size=0.2, random_state=42)"
   ]
  },
  {
   "cell_type": "code",
   "execution_count": 12,
   "metadata": {},
   "outputs": [],
   "source": [
    "#lp = MLPRegressor()"
   ]
  },
  {
   "cell_type": "code",
   "execution_count": 13,
   "metadata": {},
   "outputs": [
    {
     "data": {
      "text/plain": [
       "\"param_grid = {\\n    'hidden_layer_sizes': [(50,), (100,), (50, 50), (100, 50, 25)],\\n    'activation': ['relu', 'tanh'],\\n    'alpha': [0.0001, 0.001, 0.01],\\n    'learning_rate': ['constant', 'invscaling', 'adaptive'],\\n    'max_iter': [100, 200, 300]\\n}\""
      ]
     },
     "execution_count": 13,
     "metadata": {},
     "output_type": "execute_result"
    }
   ],
   "source": [
    "# Define the parameter grid to search\n",
    "'''param_grid = {\n",
    "    'hidden_layer_sizes': [(50,), (100,), (50, 50), (100, 50, 25)],\n",
    "    'activation': ['relu', 'tanh'],\n",
    "    'alpha': [0.0001, 0.001, 0.01],\n",
    "    'learning_rate': ['constant', 'invscaling', 'adaptive'],\n",
    "    'max_iter': [100, 200, 300]\n",
    "}'''\n"
   ]
  },
  {
   "cell_type": "code",
   "execution_count": 14,
   "metadata": {},
   "outputs": [
    {
     "data": {
      "text/plain": [
       "\"grid_search = GridSearchCV(mlp, param_grid, cv=5, scoring='neg_mean_squared_error', n_jobs=-1)\\ngrid_search.fit(X_train, y_train)\""
      ]
     },
     "execution_count": 14,
     "metadata": {},
     "output_type": "execute_result"
    }
   ],
   "source": [
    "# Use GridSearchCV to find the best combination of hyperparameters\n",
    "'''grid_search = GridSearchCV(mlp, param_grid, cv=5, scoring='neg_mean_squared_error', n_jobs=-1)\n",
    "grid_search.fit(X_train, y_train)'''"
   ]
  },
  {
   "cell_type": "code",
   "execution_count": 15,
   "metadata": {},
   "outputs": [],
   "source": [
    "# Get the best parameters\n",
    "#best_params = grid_search.best_params_"
   ]
  },
  {
   "cell_type": "code",
   "execution_count": 42,
   "metadata": {},
   "outputs": [],
   "source": [
    "#result of gridSearch\n",
    "params = {'activation': 'tanh',\n",
    " 'alpha': 0.01,\n",
    " 'hidden_layer_sizes': (100, 50, 25),\n",
    " 'learning_rate': 'invscaling',\n",
    " 'max_iter': 100}"
   ]
  },
  {
   "cell_type": "code",
   "execution_count": 43,
   "metadata": {},
   "outputs": [
    {
     "data": {
      "text/html": [
       "<style>#sk-container-id-2 {color: black;background-color: white;}#sk-container-id-2 pre{padding: 0;}#sk-container-id-2 div.sk-toggleable {background-color: white;}#sk-container-id-2 label.sk-toggleable__label {cursor: pointer;display: block;width: 100%;margin-bottom: 0;padding: 0.3em;box-sizing: border-box;text-align: center;}#sk-container-id-2 label.sk-toggleable__label-arrow:before {content: \"▸\";float: left;margin-right: 0.25em;color: #696969;}#sk-container-id-2 label.sk-toggleable__label-arrow:hover:before {color: black;}#sk-container-id-2 div.sk-estimator:hover label.sk-toggleable__label-arrow:before {color: black;}#sk-container-id-2 div.sk-toggleable__content {max-height: 0;max-width: 0;overflow: hidden;text-align: left;background-color: #f0f8ff;}#sk-container-id-2 div.sk-toggleable__content pre {margin: 0.2em;color: black;border-radius: 0.25em;background-color: #f0f8ff;}#sk-container-id-2 input.sk-toggleable__control:checked~div.sk-toggleable__content {max-height: 200px;max-width: 100%;overflow: auto;}#sk-container-id-2 input.sk-toggleable__control:checked~label.sk-toggleable__label-arrow:before {content: \"▾\";}#sk-container-id-2 div.sk-estimator input.sk-toggleable__control:checked~label.sk-toggleable__label {background-color: #d4ebff;}#sk-container-id-2 div.sk-label input.sk-toggleable__control:checked~label.sk-toggleable__label {background-color: #d4ebff;}#sk-container-id-2 input.sk-hidden--visually {border: 0;clip: rect(1px 1px 1px 1px);clip: rect(1px, 1px, 1px, 1px);height: 1px;margin: -1px;overflow: hidden;padding: 0;position: absolute;width: 1px;}#sk-container-id-2 div.sk-estimator {font-family: monospace;background-color: #f0f8ff;border: 1px dotted black;border-radius: 0.25em;box-sizing: border-box;margin-bottom: 0.5em;}#sk-container-id-2 div.sk-estimator:hover {background-color: #d4ebff;}#sk-container-id-2 div.sk-parallel-item::after {content: \"\";width: 100%;border-bottom: 1px solid gray;flex-grow: 1;}#sk-container-id-2 div.sk-label:hover label.sk-toggleable__label {background-color: #d4ebff;}#sk-container-id-2 div.sk-serial::before {content: \"\";position: absolute;border-left: 1px solid gray;box-sizing: border-box;top: 0;bottom: 0;left: 50%;z-index: 0;}#sk-container-id-2 div.sk-serial {display: flex;flex-direction: column;align-items: center;background-color: white;padding-right: 0.2em;padding-left: 0.2em;position: relative;}#sk-container-id-2 div.sk-item {position: relative;z-index: 1;}#sk-container-id-2 div.sk-parallel {display: flex;align-items: stretch;justify-content: center;background-color: white;position: relative;}#sk-container-id-2 div.sk-item::before, #sk-container-id-2 div.sk-parallel-item::before {content: \"\";position: absolute;border-left: 1px solid gray;box-sizing: border-box;top: 0;bottom: 0;left: 50%;z-index: -1;}#sk-container-id-2 div.sk-parallel-item {display: flex;flex-direction: column;z-index: 1;position: relative;background-color: white;}#sk-container-id-2 div.sk-parallel-item:first-child::after {align-self: flex-end;width: 50%;}#sk-container-id-2 div.sk-parallel-item:last-child::after {align-self: flex-start;width: 50%;}#sk-container-id-2 div.sk-parallel-item:only-child::after {width: 0;}#sk-container-id-2 div.sk-dashed-wrapped {border: 1px dashed gray;margin: 0 0.4em 0.5em 0.4em;box-sizing: border-box;padding-bottom: 0.4em;background-color: white;}#sk-container-id-2 div.sk-label label {font-family: monospace;font-weight: bold;display: inline-block;line-height: 1.2em;}#sk-container-id-2 div.sk-label-container {text-align: center;}#sk-container-id-2 div.sk-container {/* jupyter's `normalize.less` sets `[hidden] { display: none; }` but bootstrap.min.css set `[hidden] { display: none !important; }` so we also need the `!important` here to be able to override the default hidden behavior on the sphinx rendered scikit-learn.org. See: https://github.com/scikit-learn/scikit-learn/issues/21755 */display: inline-block !important;position: relative;}#sk-container-id-2 div.sk-text-repr-fallback {display: none;}</style><div id=\"sk-container-id-2\" class=\"sk-top-container\"><div class=\"sk-text-repr-fallback\"><pre>MLPRegressor(activation=&#x27;tanh&#x27;, alpha=0.01, hidden_layer_sizes=(100, 50, 25),\n",
       "             learning_rate=&#x27;invscaling&#x27;, max_iter=100)</pre><b>In a Jupyter environment, please rerun this cell to show the HTML representation or trust the notebook. <br />On GitHub, the HTML representation is unable to render, please try loading this page with nbviewer.org.</b></div><div class=\"sk-container\" hidden><div class=\"sk-item\"><div class=\"sk-estimator sk-toggleable\"><input class=\"sk-toggleable__control sk-hidden--visually\" id=\"sk-estimator-id-2\" type=\"checkbox\" checked><label for=\"sk-estimator-id-2\" class=\"sk-toggleable__label sk-toggleable__label-arrow\">MLPRegressor</label><div class=\"sk-toggleable__content\"><pre>MLPRegressor(activation=&#x27;tanh&#x27;, alpha=0.01, hidden_layer_sizes=(100, 50, 25),\n",
       "             learning_rate=&#x27;invscaling&#x27;, max_iter=100)</pre></div></div></div></div></div>"
      ],
      "text/plain": [
       "MLPRegressor(activation='tanh', alpha=0.01, hidden_layer_sizes=(100, 50, 25),\n",
       "             learning_rate='invscaling', max_iter=100)"
      ]
     },
     "execution_count": 43,
     "metadata": {},
     "output_type": "execute_result"
    }
   ],
   "source": [
    "# Train the model with the best parameters\n",
    "best_model = MLPRegressor(**params)\n",
    "best_model.fit(X_train, y_train)"
   ]
  },
  {
   "cell_type": "code",
   "execution_count": 44,
   "metadata": {},
   "outputs": [],
   "source": [
    "# Make predictions on the test set\n",
    "predictions = best_model.predict(X_test)"
   ]
  },
  {
   "cell_type": "code",
   "execution_count": 45,
   "metadata": {},
   "outputs": [
    {
     "name": "stdout",
     "output_type": "stream",
     "text": [
      "Root Mean Squared Error on the test set: 0.05814929034976029\n",
      "R-squared on the test set: 0.9948547215760457\n"
     ]
    }
   ],
   "source": [
    "# Evaluate the model\n",
    "mse = mean_squared_error(y_test, predictions)\n",
    "rmse = np.sqrt(mse)\n",
    "r2 = r2_score(y_test, predictions)\n",
    "\n",
    "#print(f\"Best parameters: {best_params}\")\n",
    "print(f\"Root Mean Squared Error on the test set: {rmse}\")\n",
    "print(f\"R-squared on the test set: {r2}\")"
   ]
  },
  {
   "cell_type": "code",
   "execution_count": 46,
   "metadata": {},
   "outputs": [],
   "source": [
    "predictionsRound = np.around(predictions, decimals=0)"
   ]
  },
  {
   "cell_type": "code",
   "execution_count": 47,
   "metadata": {},
   "outputs": [
    {
     "data": {
      "image/png": "[encoded data removed]",
      "text/plain": [
       "<Figure size 640x480 with 1 Axes>"
      ]
     },
     "metadata": {},
     "output_type": "display_data"
    }
   ],
   "source": [
    "plt.hist([y_test, predictionsRound], label=['Actual', 'Predicted'])\n",
    "plt.legend()\n",
    "plt.show()"
   ]
  },
  {
   "cell_type": "code",
   "execution_count": 50,
   "metadata": {},
   "outputs": [
    {
     "data": {
      "text/html": [
       "<div>\n",
       "<style scoped>\n",
       "    .dataframe tbody tr th:only-of-type {\n",
       "        vertical-align: middle;\n",
       "    }\n",
       "\n",
       "    .dataframe tbody tr th {\n",
       "        vertical-align: top;\n",
       "    }\n",
       "\n",
       "    .dataframe thead th {\n",
       "        text-align: right;\n",
       "    }\n",
       "</style>\n",
       "<table border=\"1\" class=\"dataframe\">\n",
       "  <thead>\n",
       "    <tr style=\"text-align: right;\">\n",
       "      <th></th>\n",
       "      <th>tm</th>\n",
       "      <th>knt</th>\n",
       "      <th>ae</th>\n",
       "      <th>ae_cl</th>\n",
       "      <th>rv1</th>\n",
       "      <th>rv2</th>\n",
       "      <th>rv3</th>\n",
       "      <th>rv4</th>\n",
       "      <th>rv5</th>\n",
       "      <th>rv6</th>\n",
       "      <th>...</th>\n",
       "      <th>rv1493</th>\n",
       "      <th>rv1494</th>\n",
       "      <th>rv1495</th>\n",
       "      <th>rv1496</th>\n",
       "      <th>rv1497</th>\n",
       "      <th>rv1498</th>\n",
       "      <th>rv1499</th>\n",
       "      <th>rv1500</th>\n",
       "      <th>mn</th>\n",
       "      <th>ds</th>\n",
       "    </tr>\n",
       "  </thead>\n",
       "  <tbody>\n",
       "    <tr>\n",
       "      <th>0</th>\n",
       "      <td>2023-11-27 18:19:18.865912</td>\n",
       "      <td>1500</td>\n",
       "      <td>0.314221</td>\n",
       "      <td>0</td>\n",
       "      <td>1593.1593</td>\n",
       "      <td>1593.1593</td>\n",
       "      <td>1593.1593</td>\n",
       "      <td>1593.1593</td>\n",
       "      <td>1593.1593</td>\n",
       "      <td>1593.1593</td>\n",
       "      <td>...</td>\n",
       "      <td>1593.1593</td>\n",
       "      <td>1593.1593</td>\n",
       "      <td>1593.1593</td>\n",
       "      <td>1593.1593</td>\n",
       "      <td>1593.1593</td>\n",
       "      <td>1593.1593</td>\n",
       "      <td>1593.1593</td>\n",
       "      <td>1593.1593</td>\n",
       "      <td>500.104740</td>\n",
       "      <td>707.032730</td>\n",
       "    </tr>\n",
       "    <tr>\n",
       "      <th>1</th>\n",
       "      <td>2023-11-27 18:20:15.4063</td>\n",
       "      <td>1500</td>\n",
       "      <td>0.215168</td>\n",
       "      <td>0</td>\n",
       "      <td>1592.1592</td>\n",
       "      <td>1592.1592</td>\n",
       "      <td>1592.1592</td>\n",
       "      <td>1592.1592</td>\n",
       "      <td>1592.1592</td>\n",
       "      <td>1592.1592</td>\n",
       "      <td>...</td>\n",
       "      <td>1592.1592</td>\n",
       "      <td>1592.1592</td>\n",
       "      <td>1592.1592</td>\n",
       "      <td>1592.1592</td>\n",
       "      <td>1592.1592</td>\n",
       "      <td>1592.1592</td>\n",
       "      <td>1592.1592</td>\n",
       "      <td>1592.1592</td>\n",
       "      <td>500.071723</td>\n",
       "      <td>707.056071</td>\n",
       "    </tr>\n",
       "    <tr>\n",
       "      <th>2</th>\n",
       "      <td>2023-11-27 18:22:22.580123</td>\n",
       "      <td>1500</td>\n",
       "      <td>0.146769</td>\n",
       "      <td>0</td>\n",
       "      <td>1594.1594</td>\n",
       "      <td>1594.1594</td>\n",
       "      <td>1594.1594</td>\n",
       "      <td>1594.1594</td>\n",
       "      <td>1594.1594</td>\n",
       "      <td>1594.1594</td>\n",
       "      <td>...</td>\n",
       "      <td>1593.1593</td>\n",
       "      <td>1593.1593</td>\n",
       "      <td>1593.1593</td>\n",
       "      <td>1593.1593</td>\n",
       "      <td>1593.1593</td>\n",
       "      <td>1593.1593</td>\n",
       "      <td>1593.1593</td>\n",
       "      <td>1593.1593</td>\n",
       "      <td>500.048923</td>\n",
       "      <td>707.072190</td>\n",
       "    </tr>\n",
       "    <tr>\n",
       "      <th>3</th>\n",
       "      <td>2023-11-27 18:23:20.619932</td>\n",
       "      <td>1500</td>\n",
       "      <td>0.372232</td>\n",
       "      <td>0</td>\n",
       "      <td>1592.1592</td>\n",
       "      <td>1592.1592</td>\n",
       "      <td>1592.1592</td>\n",
       "      <td>1592.1592</td>\n",
       "      <td>1592.1592</td>\n",
       "      <td>1592.1592</td>\n",
       "      <td>...</td>\n",
       "      <td>1592.1592</td>\n",
       "      <td>1592.1592</td>\n",
       "      <td>1592.1592</td>\n",
       "      <td>1592.1592</td>\n",
       "      <td>1591.1591</td>\n",
       "      <td>1592.1592</td>\n",
       "      <td>1591.1591</td>\n",
       "      <td>1592.1592</td>\n",
       "      <td>500.124077</td>\n",
       "      <td>707.019062</td>\n",
       "    </tr>\n",
       "    <tr>\n",
       "      <th>4</th>\n",
       "      <td>2023-11-27 18:25:27.777907</td>\n",
       "      <td>1500</td>\n",
       "      <td>0.326013</td>\n",
       "      <td>0</td>\n",
       "      <td>1593.1593</td>\n",
       "      <td>1593.1593</td>\n",
       "      <td>1593.1593</td>\n",
       "      <td>1593.1593</td>\n",
       "      <td>1593.1593</td>\n",
       "      <td>1593.1593</td>\n",
       "      <td>...</td>\n",
       "      <td>1592.1592</td>\n",
       "      <td>1592.1592</td>\n",
       "      <td>1592.1592</td>\n",
       "      <td>1592.1592</td>\n",
       "      <td>1592.1592</td>\n",
       "      <td>1592.1592</td>\n",
       "      <td>1592.1592</td>\n",
       "      <td>1592.1592</td>\n",
       "      <td>500.108671</td>\n",
       "      <td>707.029952</td>\n",
       "    </tr>\n",
       "  </tbody>\n",
       "</table>\n",
       "<p>5 rows × 1506 columns</p>\n",
       "</div>"
      ],
      "text/plain": [
       "                           tm   knt        ae  ae_cl        rv1         rv2  \\\n",
       "0  2023-11-27 18:19:18.865912  1500  0.314221      0  1593.1593   1593.1593   \n",
       "1    2023-11-27 18:20:15.4063  1500  0.215168      0  1592.1592   1592.1592   \n",
       "2  2023-11-27 18:22:22.580123  1500  0.146769      0  1594.1594   1594.1594   \n",
       "3  2023-11-27 18:23:20.619932  1500  0.372232      0  1592.1592   1592.1592   \n",
       "4  2023-11-27 18:25:27.777907  1500  0.326013      0  1593.1593   1593.1593   \n",
       "\n",
       "          rv3         rv4         rv5         rv6  ...      rv1493  \\\n",
       "0   1593.1593   1593.1593   1593.1593   1593.1593  ...   1593.1593   \n",
       "1   1592.1592   1592.1592   1592.1592   1592.1592  ...   1592.1592   \n",
       "2   1594.1594   1594.1594   1594.1594   1594.1594  ...   1593.1593   \n",
       "3   1592.1592   1592.1592   1592.1592   1592.1592  ...   1592.1592   \n",
       "4   1593.1593   1593.1593   1593.1593   1593.1593  ...   1592.1592   \n",
       "\n",
       "       rv1494      rv1495      rv1496      rv1497      rv1498      rv1499  \\\n",
       "0   1593.1593   1593.1593   1593.1593   1593.1593   1593.1593   1593.1593   \n",
       "1   1592.1592   1592.1592   1592.1592   1592.1592   1592.1592   1592.1592   \n",
       "2   1593.1593   1593.1593   1593.1593   1593.1593   1593.1593   1593.1593   \n",
       "3   1592.1592   1592.1592   1592.1592   1591.1591   1592.1592   1591.1591   \n",
       "4   1592.1592   1592.1592   1592.1592   1592.1592   1592.1592   1592.1592   \n",
       "\n",
       "       rv1500          mn          ds  \n",
       "0   1593.1593  500.104740  707.032730  \n",
       "1   1592.1592  500.071723  707.056071  \n",
       "2   1593.1593  500.048923  707.072190  \n",
       "3   1592.1592  500.124077  707.019062  \n",
       "4   1592.1592  500.108671  707.029952  \n",
       "\n",
       "[5 rows x 1506 columns]"
      ]
     },
     "execution_count": 50,
     "metadata": {},
     "output_type": "execute_result"
    }
   ],
   "source": [
    "#------------------------ Load and preprocess the data ------------------------\n",
    "\n",
    "# Generate the column names as rv1, rv2, ..., rv1500\n",
    "col_names = [f'rv{i}' for i in range(1, 1501)]\n",
    "\n",
    "# Split the rv column by comma into a list of Series\n",
    "split_series = dfTest['rv'].str.split(',', n=1499, expand=True).apply(pd.Series)\n",
    "\n",
    "# Concatenate the original DataFrame with the split Series\n",
    "dfTest = pd.concat([dfTest, split_series], axis=1)\n",
    "\n",
    "# Rename the split columns\n",
    "dfTest.rename(columns=dict(zip(split_series.columns, col_names)), inplace=True)\n",
    "\n",
    "dfTest['mn'] = dfTest.select_dtypes(include='number').mean(axis=1)\n",
    "dfTest['ds'] = dfTest.select_dtypes(include='number').std(axis=1)\n",
    "\n",
    "# Drop the original 'rv' column\n",
    "dfTest.drop('rv', axis=1, inplace=True)\n",
    "\n",
    "dfTest.head()"
   ]
  },
  {
   "cell_type": "code",
   "execution_count": 51,
   "metadata": {},
   "outputs": [],
   "source": [
    "new_data = dfTest.loc[:, 'rv1':'ds'].astype(float).values\n",
    "target_new_data = dfTest['ae_cl']"
   ]
  },
  {
   "cell_type": "code",
   "execution_count": 52,
   "metadata": {},
   "outputs": [],
   "source": [
    "# Apply the same preprocessing steps to the new data\n",
    "new_data_imputed = imputer.transform(new_data)\n",
    "new_data_scaled = scaler.transform(new_data_imputed)"
   ]
  },
  {
   "cell_type": "code",
   "execution_count": 53,
   "metadata": {},
   "outputs": [],
   "source": [
    "# Use the trained model to make predictions on the new data\n",
    "new_data_predictions = best_model.predict(new_data_scaled)"
   ]
  },
  {
   "cell_type": "code",
   "execution_count": 54,
   "metadata": {},
   "outputs": [],
   "source": [
    "newPredictionsRound = np.around(new_data_predictions, decimals=0)"
   ]
  },
  {
   "cell_type": "code",
   "execution_count": 55,
   "metadata": {},
   "outputs": [
    {
     "data": {
      "image/png": "[encoded data removed]",
      "text/plain": [
       "<Figure size 640x480 with 1 Axes>"
      ]
     },
     "metadata": {},
     "output_type": "display_data"
    }
   ],
   "source": [
    "plt.hist([target_new_data, newPredictionsRound], label=['Actual', 'Predicted'])\n",
    "plt.legend()\n",
    "plt.show()"
   ]
  }
 ],
 "metadata": {
  "kernelspec": {
   "display_name": "base",
   "language": "python",
   "name": "python3"
  },
  "language_info": {
   "codemirror_mode": {
    "name": "ipython",
    "version": 3
   },
   "file_extension": ".py",
   "mimetype": "text/x-python",
   "name": "python",
   "nbconvert_exporter": "python",
   "pygments_lexer": "ipython3",
   "version": "3.10.9"
  }
 },
 "nbformat": 4,
 "nbformat_minor": 2
}
