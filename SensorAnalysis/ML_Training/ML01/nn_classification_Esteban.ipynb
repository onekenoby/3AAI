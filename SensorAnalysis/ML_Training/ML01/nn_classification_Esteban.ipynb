{
 "cells": [
  {
   "cell_type": "code",
   "execution_count": 33,
   "metadata": {},
   "outputs": [],
   "source": [
    "import pandas as pd\n",
    "import matplotlib.pyplot as plt"
   ]
  },
  {
   "cell_type": "code",
   "execution_count": 50,
   "metadata": {},
   "outputs": [],
   "source": [
    "# Dati estrapolati dal db remoto di Giuliano in data 19/01/2024, solamente per le classi 0 e 1\n",
    "df1 = pd.read_csv('postgres_dati_aggiornati.csv')\n",
    "\n",
    "df2 = pd.read_csv('postgres_new_data.csv')\n",
    "\n",
    "df = pd.concat([df1, df2], ignore_index=True)"
   ]
  },
  {
   "cell_type": "code",
   "execution_count": 51,
   "metadata": {},
   "outputs": [
    {
     "name": "stderr",
     "output_type": "stream",
     "text": [
      "No artists with labels found to put in legend.  Note that artists whose label start with an underscore are ignored when legend() is called with no argument.\n"
     ]
    },
    {
     "data": {
      "image/png": "[encoded data removed]",
      "text/plain": [
       "<Figure size 640x480 with 1 Axes>"
      ]
     },
     "metadata": {},
     "output_type": "display_data"
    }
   ],
   "source": [
    "plt.hist([df['ae_cl']])\n",
    "plt.legend()\n",
    "plt.show()"
   ]
  },
  {
   "cell_type": "code",
   "execution_count": 54,
   "metadata": {},
   "outputs": [],
   "source": [
    "import numpy as np\n",
    "import tensorflow as tf\n",
    "from sklearn.model_selection import train_test_split, GridSearchCV\n",
    "from sklearn.metrics import make_scorer, mean_squared_error, r2_score\n",
    "from sklearn.impute import SimpleImputer\n",
    "from sklearn.preprocessing import StandardScaler\n",
    "from sklearn.pipeline import Pipeline\n",
    "from sklearn.base import BaseEstimator, RegressorMixin"
   ]
  },
  {
   "cell_type": "code",
   "execution_count": 55,
   "metadata": {},
   "outputs": [
    {
     "data": {
      "text/html": [
       "<div>\n",
       "<style scoped>\n",
       "    .dataframe tbody tr th:only-of-type {\n",
       "        vertical-align: middle;\n",
       "    }\n",
       "\n",
       "    .dataframe tbody tr th {\n",
       "        vertical-align: top;\n",
       "    }\n",
       "\n",
       "    .dataframe thead th {\n",
       "        text-align: right;\n",
       "    }\n",
       "</style>\n",
       "<table border=\"1\" class=\"dataframe\">\n",
       "  <thead>\n",
       "    <tr style=\"text-align: right;\">\n",
       "      <th></th>\n",
       "      <th>tm</th>\n",
       "      <th>knt</th>\n",
       "      <th>ae</th>\n",
       "      <th>ae_cl</th>\n",
       "      <th>rv1</th>\n",
       "      <th>rv2</th>\n",
       "      <th>rv3</th>\n",
       "      <th>rv4</th>\n",
       "      <th>rv5</th>\n",
       "      <th>rv6</th>\n",
       "      <th>...</th>\n",
       "      <th>rv1493</th>\n",
       "      <th>rv1494</th>\n",
       "      <th>rv1495</th>\n",
       "      <th>rv1496</th>\n",
       "      <th>rv1497</th>\n",
       "      <th>rv1498</th>\n",
       "      <th>rv1499</th>\n",
       "      <th>rv1500</th>\n",
       "      <th>mn</th>\n",
       "      <th>ds</th>\n",
       "    </tr>\n",
       "  </thead>\n",
       "  <tbody>\n",
       "    <tr>\n",
       "      <th>0</th>\n",
       "      <td>2024-01-18 12:11:01.088401</td>\n",
       "      <td>1500</td>\n",
       "      <td>0.317388</td>\n",
       "      <td>0</td>\n",
       "      <td>1.0001</td>\n",
       "      <td>1.0001</td>\n",
       "      <td>1.0001</td>\n",
       "      <td>1.0001</td>\n",
       "      <td>1.0001</td>\n",
       "      <td>1.0001</td>\n",
       "      <td>...</td>\n",
       "      <td>5.0005</td>\n",
       "      <td>5.0005</td>\n",
       "      <td>5.0005</td>\n",
       "      <td>5.0005</td>\n",
       "      <td>5.0005</td>\n",
       "      <td>5.0005</td>\n",
       "      <td>5.0005</td>\n",
       "      <td>5.0005</td>\n",
       "      <td>500.105796</td>\n",
       "      <td>707.031984</td>\n",
       "    </tr>\n",
       "    <tr>\n",
       "      <th>1</th>\n",
       "      <td>2023-08-25 14:09:16.8856</td>\n",
       "      <td>1500</td>\n",
       "      <td>0.249031</td>\n",
       "      <td>0</td>\n",
       "      <td>2.0002</td>\n",
       "      <td>2.0002</td>\n",
       "      <td>2.0002</td>\n",
       "      <td>2.0002</td>\n",
       "      <td>2.0002</td>\n",
       "      <td>2.0002</td>\n",
       "      <td>...</td>\n",
       "      <td>2.0002</td>\n",
       "      <td>2.0002</td>\n",
       "      <td>2.0002</td>\n",
       "      <td>2.0002</td>\n",
       "      <td>1.0001</td>\n",
       "      <td>2.0002</td>\n",
       "      <td>2.0002</td>\n",
       "      <td>2.0002</td>\n",
       "      <td>500.083010</td>\n",
       "      <td>707.048091</td>\n",
       "    </tr>\n",
       "    <tr>\n",
       "      <th>2</th>\n",
       "      <td>2023-08-25 15:01:45.379524</td>\n",
       "      <td>1500</td>\n",
       "      <td>0.181943</td>\n",
       "      <td>0</td>\n",
       "      <td>2.0002</td>\n",
       "      <td>2.0002</td>\n",
       "      <td>1.0001</td>\n",
       "      <td>2.0002</td>\n",
       "      <td>2.0002</td>\n",
       "      <td>1.0001</td>\n",
       "      <td>...</td>\n",
       "      <td>2.0002</td>\n",
       "      <td>2.0002</td>\n",
       "      <td>2.0002</td>\n",
       "      <td>2.0002</td>\n",
       "      <td>2.0002</td>\n",
       "      <td>2.0002</td>\n",
       "      <td>2.0002</td>\n",
       "      <td>2.0002</td>\n",
       "      <td>500.060648</td>\n",
       "      <td>707.063901</td>\n",
       "    </tr>\n",
       "    <tr>\n",
       "      <th>3</th>\n",
       "      <td>2023-08-30 18:48:30.942519</td>\n",
       "      <td>1500</td>\n",
       "      <td>0.146769</td>\n",
       "      <td>0</td>\n",
       "      <td>2.0002</td>\n",
       "      <td>2.0002</td>\n",
       "      <td>2.0002</td>\n",
       "      <td>2.0002</td>\n",
       "      <td>1.0001</td>\n",
       "      <td>2.0002</td>\n",
       "      <td>...</td>\n",
       "      <td>2.0002</td>\n",
       "      <td>2.0002</td>\n",
       "      <td>1.0001</td>\n",
       "      <td>2.0002</td>\n",
       "      <td>2.0002</td>\n",
       "      <td>2.0002</td>\n",
       "      <td>2.0002</td>\n",
       "      <td>2.0002</td>\n",
       "      <td>500.048923</td>\n",
       "      <td>707.072190</td>\n",
       "    </tr>\n",
       "    <tr>\n",
       "      <th>4</th>\n",
       "      <td>2023-08-30 20:05:41.072751</td>\n",
       "      <td>1500</td>\n",
       "      <td>0.109208</td>\n",
       "      <td>0</td>\n",
       "      <td>2.0002</td>\n",
       "      <td>2.0002</td>\n",
       "      <td>2.0002</td>\n",
       "      <td>2.0002</td>\n",
       "      <td>2.0002</td>\n",
       "      <td>2.0002</td>\n",
       "      <td>...</td>\n",
       "      <td>1.0001</td>\n",
       "      <td>1.0001</td>\n",
       "      <td>2.0002</td>\n",
       "      <td>2.0002</td>\n",
       "      <td>1.0001</td>\n",
       "      <td>2.0002</td>\n",
       "      <td>2.0002</td>\n",
       "      <td>1.0001</td>\n",
       "      <td>500.036403</td>\n",
       "      <td>707.081042</td>\n",
       "    </tr>\n",
       "  </tbody>\n",
       "</table>\n",
       "<p>5 rows × 1506 columns</p>\n",
       "</div>"
      ],
      "text/plain": [
       "                           tm   knt        ae  ae_cl     rv1      rv2  \\\n",
       "0  2024-01-18 12:11:01.088401  1500  0.317388      0  1.0001   1.0001   \n",
       "1    2023-08-25 14:09:16.8856  1500  0.249031      0  2.0002   2.0002   \n",
       "2  2023-08-25 15:01:45.379524  1500  0.181943      0  2.0002   2.0002   \n",
       "3  2023-08-30 18:48:30.942519  1500  0.146769      0  2.0002   2.0002   \n",
       "4  2023-08-30 20:05:41.072751  1500  0.109208      0  2.0002   2.0002   \n",
       "\n",
       "       rv3      rv4      rv5      rv6  ...   rv1493   rv1494   rv1495  \\\n",
       "0   1.0001   1.0001   1.0001   1.0001  ...   5.0005   5.0005   5.0005   \n",
       "1   2.0002   2.0002   2.0002   2.0002  ...   2.0002   2.0002   2.0002   \n",
       "2   1.0001   2.0002   2.0002   1.0001  ...   2.0002   2.0002   2.0002   \n",
       "3   2.0002   2.0002   1.0001   2.0002  ...   2.0002   2.0002   1.0001   \n",
       "4   2.0002   2.0002   2.0002   2.0002  ...   1.0001   1.0001   2.0002   \n",
       "\n",
       "    rv1496   rv1497   rv1498   rv1499   rv1500          mn          ds  \n",
       "0   5.0005   5.0005   5.0005   5.0005   5.0005  500.105796  707.031984  \n",
       "1   2.0002   1.0001   2.0002   2.0002   2.0002  500.083010  707.048091  \n",
       "2   2.0002   2.0002   2.0002   2.0002   2.0002  500.060648  707.063901  \n",
       "3   2.0002   2.0002   2.0002   2.0002   2.0002  500.048923  707.072190  \n",
       "4   2.0002   1.0001   2.0002   2.0002   1.0001  500.036403  707.081042  \n",
       "\n",
       "[5 rows x 1506 columns]"
      ]
     },
     "execution_count": 55,
     "metadata": {},
     "output_type": "execute_result"
    }
   ],
   "source": [
    "#------------------------ Load and preprocess the data ------------------------\n",
    "\n",
    "# Generate the column names as rv1, rv2, ..., rv1500\n",
    "col_names = [f'rv{i}' for i in range(1, 1501)]\n",
    "\n",
    "# Split the rv column by comma into a list of Series\n",
    "split_series = df['rv'].str.split(',', n=1499, expand=True).apply(pd.Series)\n",
    "\n",
    "# Concatenate the original DataFrame with the split Series\n",
    "df = pd.concat([df, split_series], axis=1)\n",
    "\n",
    "# Rename the split columns\n",
    "df.rename(columns=dict(zip(split_series.columns, col_names)), inplace=True)\n",
    "\n",
    "df['mn'] = df.select_dtypes(include='number').mean(axis=1)\n",
    "df['ds'] = df.select_dtypes(include='number').std(axis=1)\n",
    "\n",
    "# Drop the original 'rv' column\n",
    "df.drop('rv', axis=1, inplace=True)\n",
    "\n",
    "df.head()"
   ]
  },
  {
   "cell_type": "code",
   "execution_count": 57,
   "metadata": {},
   "outputs": [],
   "source": [
    "X = df.loc[:, 'rv1':'ds'].astype(float).values\n",
    "y = df['ae_cl']"
   ]
  },
  {
   "cell_type": "code",
   "execution_count": 59,
   "metadata": {},
   "outputs": [],
   "source": [
    "# Preprocessing steps\n",
    "# Impute missing values (if any)\n",
    "imputer = SimpleImputer(strategy='mean')\n",
    "X_imputed = imputer.fit_transform(X)\n",
    "\n",
    "# Scale features\n",
    "scaler = StandardScaler()\n",
    "X_scaled = scaler.fit_transform(X_imputed)\n"
   ]
  },
  {
   "cell_type": "code",
   "execution_count": 60,
   "metadata": {},
   "outputs": [],
   "source": [
    "# Split the preprocessed data into training and testing sets\n",
    "X_train, X_test, y_train, y_test = train_test_split(X_scaled, y, test_size=0.2, random_state=42)"
   ]
  },
  {
   "cell_type": "code",
   "execution_count": 61,
   "metadata": {},
   "outputs": [],
   "source": [
    "\n",
    "# Define a KerasRegressor wrapper\n",
    "class MLPRegressorWrapper(BaseEstimator, RegressorMixin):\n",
    "    def __init__(self, hidden_layer_size=100, epochs=50, batch_size=32):\n",
    "        self.hidden_layer_size = hidden_layer_size\n",
    "        self.epochs = epochs\n",
    "        self.batch_size = batch_size\n",
    "        self.model = self._build_model()\n",
    "\n",
    "    def _build_model(self):\n",
    "        model = tf.keras.Sequential([\n",
    "            tf.keras.layers.Dense(self.hidden_layer_size, activation='relu', input_shape=(X_train.shape[1],)),\n",
    "            tf.keras.layers.Dense(1)  # Output layer for regression\n",
    "        ])\n",
    "        model.compile(optimizer='adam', loss='mean_squared_error')\n",
    "        return model\n",
    "\n",
    "    def fit(self, X, y):\n",
    "        self.model.fit(X, y, epochs=self.epochs, batch_size=self.batch_size, verbose=0)\n",
    "        return self\n",
    "\n",
    "    def predict(self, X):\n",
    "        return self.model.predict(X).flatten()"
   ]
  },
  {
   "cell_type": "code",
   "execution_count": 63,
   "metadata": {},
   "outputs": [],
   "source": [
    "# Create a pipeline with preprocessing and the MLPRegressorWrapper\n",
    "pipeline = Pipeline([\n",
    "    ('imputer', SimpleImputer(strategy='mean')),\n",
    "    ('scaler', StandardScaler()),\n",
    "    ('mlp', MLPRegressorWrapper())\n",
    "])"
   ]
  },
  {
   "cell_type": "code",
   "execution_count": 65,
   "metadata": {},
   "outputs": [],
   "source": [
    "# Define the parameter grid to search\n",
    "param_grid = {\n",
    "    'mlp__hidden_layer_size': [50, 100, 150],\n",
    "    'mlp__epochs': [50, 100],\n",
    "    'mlp__batch_size': [32, 64]\n",
    "}\n"
   ]
  },
  {
   "cell_type": "code",
   "execution_count": 66,
   "metadata": {},
   "outputs": [
    {
     "name": "stdout",
     "output_type": "stream",
     "text": [
      "WARNING:tensorflow:From c:\\Users\\esteo\\anaconda3\\lib\\site-packages\\keras\\src\\utils\\tf_utils.py:492: The name tf.ragged.RaggedTensorValue is deprecated. Please use tf.compat.v1.ragged.RaggedTensorValue instead.\n",
      "\n"
     ]
    },
    {
     "data": {
      "text/html": [
       "<style>#sk-container-id-1 {color: black;background-color: white;}#sk-container-id-1 pre{padding: 0;}#sk-container-id-1 div.sk-toggleable {background-color: white;}#sk-container-id-1 label.sk-toggleable__label {cursor: pointer;display: block;width: 100%;margin-bottom: 0;padding: 0.3em;box-sizing: border-box;text-align: center;}#sk-container-id-1 label.sk-toggleable__label-arrow:before {content: \"▸\";float: left;margin-right: 0.25em;color: #696969;}#sk-container-id-1 label.sk-toggleable__label-arrow:hover:before {color: black;}#sk-container-id-1 div.sk-estimator:hover label.sk-toggleable__label-arrow:before {color: black;}#sk-container-id-1 div.sk-toggleable__content {max-height: 0;max-width: 0;overflow: hidden;text-align: left;background-color: #f0f8ff;}#sk-container-id-1 div.sk-toggleable__content pre {margin: 0.2em;color: black;border-radius: 0.25em;background-color: #f0f8ff;}#sk-container-id-1 input.sk-toggleable__control:checked~div.sk-toggleable__content {max-height: 200px;max-width: 100%;overflow: auto;}#sk-container-id-1 input.sk-toggleable__control:checked~label.sk-toggleable__label-arrow:before {content: \"▾\";}#sk-container-id-1 div.sk-estimator input.sk-toggleable__control:checked~label.sk-toggleable__label {background-color: #d4ebff;}#sk-container-id-1 div.sk-label input.sk-toggleable__control:checked~label.sk-toggleable__label {background-color: #d4ebff;}#sk-container-id-1 input.sk-hidden--visually {border: 0;clip: rect(1px 1px 1px 1px);clip: rect(1px, 1px, 1px, 1px);height: 1px;margin: -1px;overflow: hidden;padding: 0;position: absolute;width: 1px;}#sk-container-id-1 div.sk-estimator {font-family: monospace;background-color: #f0f8ff;border: 1px dotted black;border-radius: 0.25em;box-sizing: border-box;margin-bottom: 0.5em;}#sk-container-id-1 div.sk-estimator:hover {background-color: #d4ebff;}#sk-container-id-1 div.sk-parallel-item::after {content: \"\";width: 100%;border-bottom: 1px solid gray;flex-grow: 1;}#sk-container-id-1 div.sk-label:hover label.sk-toggleable__label {background-color: #d4ebff;}#sk-container-id-1 div.sk-serial::before {content: \"\";position: absolute;border-left: 1px solid gray;box-sizing: border-box;top: 0;bottom: 0;left: 50%;z-index: 0;}#sk-container-id-1 div.sk-serial {display: flex;flex-direction: column;align-items: center;background-color: white;padding-right: 0.2em;padding-left: 0.2em;position: relative;}#sk-container-id-1 div.sk-item {position: relative;z-index: 1;}#sk-container-id-1 div.sk-parallel {display: flex;align-items: stretch;justify-content: center;background-color: white;position: relative;}#sk-container-id-1 div.sk-item::before, #sk-container-id-1 div.sk-parallel-item::before {content: \"\";position: absolute;border-left: 1px solid gray;box-sizing: border-box;top: 0;bottom: 0;left: 50%;z-index: -1;}#sk-container-id-1 div.sk-parallel-item {display: flex;flex-direction: column;z-index: 1;position: relative;background-color: white;}#sk-container-id-1 div.sk-parallel-item:first-child::after {align-self: flex-end;width: 50%;}#sk-container-id-1 div.sk-parallel-item:last-child::after {align-self: flex-start;width: 50%;}#sk-container-id-1 div.sk-parallel-item:only-child::after {width: 0;}#sk-container-id-1 div.sk-dashed-wrapped {border: 1px dashed gray;margin: 0 0.4em 0.5em 0.4em;box-sizing: border-box;padding-bottom: 0.4em;background-color: white;}#sk-container-id-1 div.sk-label label {font-family: monospace;font-weight: bold;display: inline-block;line-height: 1.2em;}#sk-container-id-1 div.sk-label-container {text-align: center;}#sk-container-id-1 div.sk-container {/* jupyter's `normalize.less` sets `[hidden] { display: none; }` but bootstrap.min.css set `[hidden] { display: none !important; }` so we also need the `!important` here to be able to override the default hidden behavior on the sphinx rendered scikit-learn.org. See: https://github.com/scikit-learn/scikit-learn/issues/21755 */display: inline-block !important;position: relative;}#sk-container-id-1 div.sk-text-repr-fallback {display: none;}</style><div id=\"sk-container-id-1\" class=\"sk-top-container\"><div class=\"sk-text-repr-fallback\"><pre>GridSearchCV(cv=5,\n",
       "             estimator=Pipeline(steps=[(&#x27;imputer&#x27;, SimpleImputer()),\n",
       "                                       (&#x27;scaler&#x27;, StandardScaler()),\n",
       "                                       (&#x27;mlp&#x27;, MLPRegressorWrapper())]),\n",
       "             n_jobs=-1,\n",
       "             param_grid={&#x27;mlp__batch_size&#x27;: [32, 64], &#x27;mlp__epochs&#x27;: [50, 100],\n",
       "                         &#x27;mlp__hidden_layer_size&#x27;: [50, 100, 150]},\n",
       "             scoring=&#x27;neg_mean_squared_error&#x27;)</pre><b>In a Jupyter environment, please rerun this cell to show the HTML representation or trust the notebook. <br />On GitHub, the HTML representation is unable to render, please try loading this page with nbviewer.org.</b></div><div class=\"sk-container\" hidden><div class=\"sk-item sk-dashed-wrapped\"><div class=\"sk-label-container\"><div class=\"sk-label sk-toggleable\"><input class=\"sk-toggleable__control sk-hidden--visually\" id=\"sk-estimator-id-1\" type=\"checkbox\" ><label for=\"sk-estimator-id-1\" class=\"sk-toggleable__label sk-toggleable__label-arrow\">GridSearchCV</label><div class=\"sk-toggleable__content\"><pre>GridSearchCV(cv=5,\n",
       "             estimator=Pipeline(steps=[(&#x27;imputer&#x27;, SimpleImputer()),\n",
       "                                       (&#x27;scaler&#x27;, StandardScaler()),\n",
       "                                       (&#x27;mlp&#x27;, MLPRegressorWrapper())]),\n",
       "             n_jobs=-1,\n",
       "             param_grid={&#x27;mlp__batch_size&#x27;: [32, 64], &#x27;mlp__epochs&#x27;: [50, 100],\n",
       "                         &#x27;mlp__hidden_layer_size&#x27;: [50, 100, 150]},\n",
       "             scoring=&#x27;neg_mean_squared_error&#x27;)</pre></div></div></div><div class=\"sk-parallel\"><div class=\"sk-parallel-item\"><div class=\"sk-item\"><div class=\"sk-label-container\"><div class=\"sk-label sk-toggleable\"><input class=\"sk-toggleable__control sk-hidden--visually\" id=\"sk-estimator-id-2\" type=\"checkbox\" ><label for=\"sk-estimator-id-2\" class=\"sk-toggleable__label sk-toggleable__label-arrow\">estimator: Pipeline</label><div class=\"sk-toggleable__content\"><pre>Pipeline(steps=[(&#x27;imputer&#x27;, SimpleImputer()), (&#x27;scaler&#x27;, StandardScaler()),\n",
       "                (&#x27;mlp&#x27;, MLPRegressorWrapper())])</pre></div></div></div><div class=\"sk-serial\"><div class=\"sk-item\"><div class=\"sk-serial\"><div class=\"sk-item\"><div class=\"sk-estimator sk-toggleable\"><input class=\"sk-toggleable__control sk-hidden--visually\" id=\"sk-estimator-id-3\" type=\"checkbox\" ><label for=\"sk-estimator-id-3\" class=\"sk-toggleable__label sk-toggleable__label-arrow\">SimpleImputer</label><div class=\"sk-toggleable__content\"><pre>SimpleImputer()</pre></div></div></div><div class=\"sk-item\"><div class=\"sk-estimator sk-toggleable\"><input class=\"sk-toggleable__control sk-hidden--visually\" id=\"sk-estimator-id-4\" type=\"checkbox\" ><label for=\"sk-estimator-id-4\" class=\"sk-toggleable__label sk-toggleable__label-arrow\">StandardScaler</label><div class=\"sk-toggleable__content\"><pre>StandardScaler()</pre></div></div></div><div class=\"sk-item\"><div class=\"sk-estimator sk-toggleable\"><input class=\"sk-toggleable__control sk-hidden--visually\" id=\"sk-estimator-id-5\" type=\"checkbox\" ><label for=\"sk-estimator-id-5\" class=\"sk-toggleable__label sk-toggleable__label-arrow\">MLPRegressorWrapper</label><div class=\"sk-toggleable__content\"><pre>MLPRegressorWrapper()</pre></div></div></div></div></div></div></div></div></div></div></div></div>"
      ],
      "text/plain": [
       "GridSearchCV(cv=5,\n",
       "             estimator=Pipeline(steps=[('imputer', SimpleImputer()),\n",
       "                                       ('scaler', StandardScaler()),\n",
       "                                       ('mlp', MLPRegressorWrapper())]),\n",
       "             n_jobs=-1,\n",
       "             param_grid={'mlp__batch_size': [32, 64], 'mlp__epochs': [50, 100],\n",
       "                         'mlp__hidden_layer_size': [50, 100, 150]},\n",
       "             scoring='neg_mean_squared_error')"
      ]
     },
     "execution_count": 66,
     "metadata": {},
     "output_type": "execute_result"
    }
   ],
   "source": [
    "# Use GridSearchCV to find the best combination of hyperparameters\n",
    "grid_search = GridSearchCV(pipeline, param_grid, cv=5, scoring='neg_mean_squared_error', n_jobs=-1)\n",
    "grid_search.fit(X_train, y_train)"
   ]
  },
  {
   "cell_type": "code",
   "execution_count": 67,
   "metadata": {},
   "outputs": [],
   "source": [
    "# Get the best parameters\n",
    "best_params = grid_search.best_params_"
   ]
  },
  {
   "cell_type": "code",
   "execution_count": 69,
   "metadata": {},
   "outputs": [
    {
     "name": "stdout",
     "output_type": "stream",
     "text": [
      "40/40 [==============================] - 0s 795us/step\n"
     ]
    }
   ],
   "source": [
    "# Make predictions on the test set\n",
    "predictions = grid_search.predict(X_test)"
   ]
  },
  {
   "cell_type": "code",
   "execution_count": 70,
   "metadata": {},
   "outputs": [
    {
     "name": "stdout",
     "output_type": "stream",
     "text": [
      "Best parameters: {'mlp__batch_size': 64, 'mlp__epochs': 100, 'mlp__hidden_layer_size': 50}\n",
      "Root Mean Squared Error on the test set: 0.08122997971828243\n",
      "R-squared on the test set: 0.9854912498083588\n"
     ]
    }
   ],
   "source": [
    "# Evaluate the model\n",
    "mse = mean_squared_error(y_test, predictions)\n",
    "rmse = np.sqrt(mse)\n",
    "r2 = r2_score(y_test, predictions)\n",
    "\n",
    "print(f\"Best parameters: {best_params}\")\n",
    "print(f\"Root Mean Squared Error on the test set: {rmse}\")\n",
    "print(f\"R-squared on the test set: {r2}\")"
   ]
  },
  {
   "cell_type": "code",
   "execution_count": 77,
   "metadata": {},
   "outputs": [],
   "source": [
    "predictionsRound = np.around(predictions, decimals=0)"
   ]
  },
  {
   "cell_type": "code",
   "execution_count": 78,
   "metadata": {},
   "outputs": [
    {
     "data": {
      "image/png": "[encoded data removed]",
      "text/plain": [
       "<Figure size 640x480 with 1 Axes>"
      ]
     },
     "metadata": {},
     "output_type": "display_data"
    }
   ],
   "source": [
    "plt.hist([y_test, predictionsRound], label=['Actual', 'Predicted'])\n",
    "plt.legend()\n",
    "plt.show()"
   ]
  }
 ],
 "metadata": {
  "kernelspec": {
   "display_name": "base",
   "language": "python",
   "name": "python3"
  },
  "language_info": {
   "codemirror_mode": {
    "name": "ipython",
    "version": 3
   },
   "file_extension": ".py",
   "mimetype": "text/x-python",
   "name": "python",
   "nbconvert_exporter": "python",
   "pygments_lexer": "ipython3",
   "version": "3.10.9"
  }
 },
 "nbformat": 4,
 "nbformat_minor": 2
}
